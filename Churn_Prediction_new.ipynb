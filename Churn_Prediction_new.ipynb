{
 "cells": [
  {
   "cell_type": "markdown",
   "metadata": {
    "id": "m4gfviSI-vkV"
   },
   "source": [
    "# Предсказание оттока клиентов телеком компании"
   ]
  },
  {
   "cell_type": "markdown",
   "metadata": {
    "id": "NYO3y34z_L2P"
   },
   "source": [
    "Задача: предсказать, покинет ли клиент компанию\n",
    "\n",
    "Данные: информация о текущих клиентах компании, и о клиентах, которые отказались от услуг компании. Информация включает в себя сведения о поле, семейном положении, локации проживания, количестве номеров телефона, наличие онлайн ТВ и др. (подробнее в таблице)"
   ]
  },
  {
   "cell_type": "code",
   "execution_count": 1,
   "metadata": {
    "id": "lzLqEeZKEEYz"
   },
   "outputs": [],
   "source": [
    "import pandas as pd\n",
    "import numpy as np\n",
    "from matplotlib import pyplot as plt"
   ]
  },
  {
   "cell_type": "code",
   "execution_count": 2,
   "metadata": {
    "colab": {
     "base_uri": "https://localhost:8080/",
     "height": 339
    },
    "id": "pw-Brue9EEY3",
    "outputId": "f306ca5b-5f5c-401b-810b-6c69aaadcfc7"
   },
   "outputs": [
    {
     "data": {
      "text/html": [
       "<div>\n",
       "<style scoped>\n",
       "    .dataframe tbody tr th:only-of-type {\n",
       "        vertical-align: middle;\n",
       "    }\n",
       "\n",
       "    .dataframe tbody tr th {\n",
       "        vertical-align: top;\n",
       "    }\n",
       "\n",
       "    .dataframe thead th {\n",
       "        text-align: right;\n",
       "    }\n",
       "</style>\n",
       "<table border=\"1\" class=\"dataframe\">\n",
       "  <thead>\n",
       "    <tr style=\"text-align: right;\">\n",
       "      <th></th>\n",
       "      <th>ClientPeriod</th>\n",
       "      <th>MonthlySpending</th>\n",
       "      <th>TotalSpent</th>\n",
       "      <th>Sex</th>\n",
       "      <th>IsSeniorCitizen</th>\n",
       "      <th>HasPartner</th>\n",
       "      <th>HasChild</th>\n",
       "      <th>HasPhoneService</th>\n",
       "      <th>HasMultiplePhoneNumbers</th>\n",
       "      <th>HasInternetService</th>\n",
       "      <th>HasOnlineSecurityService</th>\n",
       "      <th>HasOnlineBackup</th>\n",
       "      <th>HasDeviceProtection</th>\n",
       "      <th>HasTechSupportAccess</th>\n",
       "      <th>HasOnlineTV</th>\n",
       "      <th>HasMovieSubscription</th>\n",
       "      <th>HasContractPhone</th>\n",
       "      <th>IsBillingPaperless</th>\n",
       "      <th>PaymentMethod</th>\n",
       "      <th>Churn</th>\n",
       "    </tr>\n",
       "  </thead>\n",
       "  <tbody>\n",
       "    <tr>\n",
       "      <th>0</th>\n",
       "      <td>55</td>\n",
       "      <td>19.50</td>\n",
       "      <td>1026.35</td>\n",
       "      <td>Male</td>\n",
       "      <td>0</td>\n",
       "      <td>Yes</td>\n",
       "      <td>Yes</td>\n",
       "      <td>Yes</td>\n",
       "      <td>No</td>\n",
       "      <td>No</td>\n",
       "      <td>No internet service</td>\n",
       "      <td>No internet service</td>\n",
       "      <td>No internet service</td>\n",
       "      <td>No internet service</td>\n",
       "      <td>No internet service</td>\n",
       "      <td>No internet service</td>\n",
       "      <td>One year</td>\n",
       "      <td>No</td>\n",
       "      <td>Mailed check</td>\n",
       "      <td>0</td>\n",
       "    </tr>\n",
       "    <tr>\n",
       "      <th>1</th>\n",
       "      <td>72</td>\n",
       "      <td>25.85</td>\n",
       "      <td>1872.2</td>\n",
       "      <td>Male</td>\n",
       "      <td>0</td>\n",
       "      <td>Yes</td>\n",
       "      <td>No</td>\n",
       "      <td>Yes</td>\n",
       "      <td>Yes</td>\n",
       "      <td>No</td>\n",
       "      <td>No internet service</td>\n",
       "      <td>No internet service</td>\n",
       "      <td>No internet service</td>\n",
       "      <td>No internet service</td>\n",
       "      <td>No internet service</td>\n",
       "      <td>No internet service</td>\n",
       "      <td>Two year</td>\n",
       "      <td>No</td>\n",
       "      <td>Credit card (automatic)</td>\n",
       "      <td>0</td>\n",
       "    </tr>\n",
       "    <tr>\n",
       "      <th>2</th>\n",
       "      <td>1</td>\n",
       "      <td>75.90</td>\n",
       "      <td>75.9</td>\n",
       "      <td>Male</td>\n",
       "      <td>0</td>\n",
       "      <td>No</td>\n",
       "      <td>No</td>\n",
       "      <td>Yes</td>\n",
       "      <td>No</td>\n",
       "      <td>Fiber optic</td>\n",
       "      <td>No</td>\n",
       "      <td>No</td>\n",
       "      <td>No</td>\n",
       "      <td>Yes</td>\n",
       "      <td>No</td>\n",
       "      <td>No</td>\n",
       "      <td>Month-to-month</td>\n",
       "      <td>Yes</td>\n",
       "      <td>Electronic check</td>\n",
       "      <td>1</td>\n",
       "    </tr>\n",
       "    <tr>\n",
       "      <th>3</th>\n",
       "      <td>32</td>\n",
       "      <td>79.30</td>\n",
       "      <td>2570</td>\n",
       "      <td>Female</td>\n",
       "      <td>1</td>\n",
       "      <td>Yes</td>\n",
       "      <td>No</td>\n",
       "      <td>Yes</td>\n",
       "      <td>Yes</td>\n",
       "      <td>Fiber optic</td>\n",
       "      <td>No</td>\n",
       "      <td>No</td>\n",
       "      <td>Yes</td>\n",
       "      <td>No</td>\n",
       "      <td>No</td>\n",
       "      <td>No</td>\n",
       "      <td>Month-to-month</td>\n",
       "      <td>No</td>\n",
       "      <td>Mailed check</td>\n",
       "      <td>0</td>\n",
       "    </tr>\n",
       "    <tr>\n",
       "      <th>4</th>\n",
       "      <td>60</td>\n",
       "      <td>115.25</td>\n",
       "      <td>6758.45</td>\n",
       "      <td>Female</td>\n",
       "      <td>0</td>\n",
       "      <td>Yes</td>\n",
       "      <td>Yes</td>\n",
       "      <td>Yes</td>\n",
       "      <td>Yes</td>\n",
       "      <td>Fiber optic</td>\n",
       "      <td>Yes</td>\n",
       "      <td>Yes</td>\n",
       "      <td>Yes</td>\n",
       "      <td>Yes</td>\n",
       "      <td>Yes</td>\n",
       "      <td>Yes</td>\n",
       "      <td>Two year</td>\n",
       "      <td>No</td>\n",
       "      <td>Credit card (automatic)</td>\n",
       "      <td>0</td>\n",
       "    </tr>\n",
       "  </tbody>\n",
       "</table>\n",
       "</div>"
      ],
      "text/plain": [
       "   ClientPeriod  MonthlySpending TotalSpent     Sex  IsSeniorCitizen  \\\n",
       "0            55            19.50    1026.35    Male                0   \n",
       "1            72            25.85     1872.2    Male                0   \n",
       "2             1            75.90       75.9    Male                0   \n",
       "3            32            79.30       2570  Female                1   \n",
       "4            60           115.25    6758.45  Female                0   \n",
       "\n",
       "  HasPartner HasChild HasPhoneService HasMultiplePhoneNumbers  \\\n",
       "0        Yes      Yes             Yes                      No   \n",
       "1        Yes       No             Yes                     Yes   \n",
       "2         No       No             Yes                      No   \n",
       "3        Yes       No             Yes                     Yes   \n",
       "4        Yes      Yes             Yes                     Yes   \n",
       "\n",
       "  HasInternetService HasOnlineSecurityService      HasOnlineBackup  \\\n",
       "0                 No      No internet service  No internet service   \n",
       "1                 No      No internet service  No internet service   \n",
       "2        Fiber optic                       No                   No   \n",
       "3        Fiber optic                       No                   No   \n",
       "4        Fiber optic                      Yes                  Yes   \n",
       "\n",
       "   HasDeviceProtection HasTechSupportAccess          HasOnlineTV  \\\n",
       "0  No internet service  No internet service  No internet service   \n",
       "1  No internet service  No internet service  No internet service   \n",
       "2                   No                  Yes                   No   \n",
       "3                  Yes                   No                   No   \n",
       "4                  Yes                  Yes                  Yes   \n",
       "\n",
       "  HasMovieSubscription HasContractPhone IsBillingPaperless  \\\n",
       "0  No internet service         One year                 No   \n",
       "1  No internet service         Two year                 No   \n",
       "2                   No   Month-to-month                Yes   \n",
       "3                   No   Month-to-month                 No   \n",
       "4                  Yes         Two year                 No   \n",
       "\n",
       "             PaymentMethod  Churn  \n",
       "0             Mailed check      0  \n",
       "1  Credit card (automatic)      0  \n",
       "2         Electronic check      1  \n",
       "3             Mailed check      0  \n",
       "4  Credit card (automatic)      0  "
      ]
     },
     "execution_count": 2,
     "metadata": {},
     "output_type": "execute_result"
    }
   ],
   "source": [
    "data = pd.read_csv('./train.csv')\n",
    "data.head()"
   ]
  },
  {
   "cell_type": "markdown",
   "metadata": {
    "id": "1Q3hAn0WsLyg"
   },
   "source": [
    "$\\textbf{Предварительно поделим признаки на категориальные и числовые. Отдельно выделим целевую переменную Churn}$"
   ]
  },
  {
   "cell_type": "code",
   "execution_count": 3,
   "metadata": {
    "id": "KgnkkF5bEEY9"
   },
   "outputs": [],
   "source": [
    "# Числовые признаки\n",
    "num_cols = [\n",
    "    'ClientPeriod',\n",
    "    'MonthlySpending',\n",
    "    'TotalSpent'\n",
    "]\n",
    "\n",
    "# Категориальные признаки\n",
    "cat_cols = [\n",
    "    'Sex',\n",
    "    'IsSeniorCitizen',\n",
    "    'HasPartner',\n",
    "    'HasChild',\n",
    "    'HasPhoneService',\n",
    "    'HasMultiplePhoneNumbers',\n",
    "    'HasInternetService',\n",
    "    'HasOnlineSecurityService',\n",
    "    'HasOnlineBackup',\n",
    "    'HasDeviceProtection',\n",
    "    'HasTechSupportAccess',\n",
    "    'HasOnlineTV',\n",
    "    'HasMovieSubscription',\n",
    "    'HasContractPhone',\n",
    "    'IsBillingPaperless',\n",
    "    'PaymentMethod'\n",
    "]\n",
    "\n",
    "feature_cols = num_cols + cat_cols\n",
    "\n",
    "# целевая переменная\n",
    "target_col = 'Churn' "
   ]
  },
  {
   "cell_type": "markdown",
   "metadata": {
    "id": "wPTO4xb8o_bv"
   },
   "source": [
    "$\\textbf{Проанализируем число NaN-ов в каждом столбце}$"
   ]
  },
  {
   "cell_type": "code",
   "execution_count": 4,
   "metadata": {
    "colab": {
     "base_uri": "https://localhost:8080/"
    },
    "id": "tjN0ieZuok0S",
    "outputId": "b0b7fec2-0c11-4804-faa9-a74d74445295"
   },
   "outputs": [
    {
     "data": {
      "text/plain": [
       "ClientPeriod                0\n",
       "MonthlySpending             0\n",
       "TotalSpent                  0\n",
       "Sex                         0\n",
       "IsSeniorCitizen             0\n",
       "HasPartner                  0\n",
       "HasChild                    0\n",
       "HasPhoneService             0\n",
       "HasMultiplePhoneNumbers     0\n",
       "HasInternetService          0\n",
       "HasOnlineSecurityService    0\n",
       "HasOnlineBackup             0\n",
       "HasDeviceProtection         0\n",
       "HasTechSupportAccess        0\n",
       "HasOnlineTV                 0\n",
       "HasMovieSubscription        0\n",
       "HasContractPhone            0\n",
       "IsBillingPaperless          0\n",
       "PaymentMethod               0\n",
       "Churn                       0\n",
       "dtype: int64"
      ]
     },
     "execution_count": 4,
     "metadata": {},
     "output_type": "execute_result"
    }
   ],
   "source": [
    "data.isna().sum()"
   ]
  },
  {
   "cell_type": "markdown",
   "metadata": {
    "id": "CJ4vJk0em8Zz"
   },
   "source": [
    "$\\textbf{Как мы можем видеть, NaN-ов нет ни в одном столбце}$\n"
   ]
  },
  {
   "cell_type": "markdown",
   "metadata": {
    "id": "UwU6b7_wpSBc"
   },
   "source": [
    "$\\textbf{Удалим строки, в которых присутствуют пустые значения в колонке TotalSpent, так как это мешает анализировать эту колонку}$\n",
    "\n",
    "$\\textbf{Таких строк не много, поэтому их удаление не окажет сильного влияния на конечный результат}$\n",
    "\n",
    "$\\textbf{Альтернативным вариантом могла бы быть замена значений TotalSpent в этих строчках на 0, если считать верным предположение о том, что:}$\n",
    "\n",
    "$$TotalSpent = ClientPeriod \\cdot MonthlySpending $$"
   ]
  },
  {
   "cell_type": "code",
   "execution_count": 5,
   "metadata": {
    "colab": {
     "base_uri": "https://localhost:8080/"
    },
    "id": "VSpsfIRvpj-v",
    "outputId": "1b0c7de0-afd7-4b60-a510-bb34687f6557"
   },
   "outputs": [
    {
     "data": {
      "text/plain": [
       "Int64Index([1048, 1707, 2543, 3078, 3697, 4002, 4326, 4551, 4598], dtype='int64')"
      ]
     },
     "execution_count": 5,
     "metadata": {},
     "output_type": "execute_result"
    }
   ],
   "source": [
    "data[data['TotalSpent'] == ' '].index # индексы строк с пустым занчением в колонке TotalSpent"
   ]
  },
  {
   "cell_type": "code",
   "execution_count": 6,
   "metadata": {
    "id": "Hm1B_lg4m8Zz"
   },
   "outputs": [],
   "source": [
    "# Удаление строчек, в которых присутствуют пустые значения в колонке TotalSpent\n",
    "data = data.drop(data[data['TotalSpent'] == ' '].index)\n",
    "data.TotalSpent = data.TotalSpent.astype(float)"
   ]
  },
  {
   "cell_type": "code",
   "execution_count": 7,
   "metadata": {
    "colab": {
     "base_uri": "https://localhost:8080/",
     "height": 300
    },
    "id": "97RIxRCBm8Zy",
    "outputId": "10f5b357-95e6-4bea-eed7-8bf05f9c34d8"
   },
   "outputs": [
    {
     "data": {
      "text/html": [
       "<div>\n",
       "<style scoped>\n",
       "    .dataframe tbody tr th:only-of-type {\n",
       "        vertical-align: middle;\n",
       "    }\n",
       "\n",
       "    .dataframe tbody tr th {\n",
       "        vertical-align: top;\n",
       "    }\n",
       "\n",
       "    .dataframe thead th {\n",
       "        text-align: right;\n",
       "    }\n",
       "</style>\n",
       "<table border=\"1\" class=\"dataframe\">\n",
       "  <thead>\n",
       "    <tr style=\"text-align: right;\">\n",
       "      <th></th>\n",
       "      <th>ClientPeriod</th>\n",
       "      <th>MonthlySpending</th>\n",
       "      <th>TotalSpent</th>\n",
       "    </tr>\n",
       "  </thead>\n",
       "  <tbody>\n",
       "    <tr>\n",
       "      <th>count</th>\n",
       "      <td>5273.000000</td>\n",
       "      <td>5273.000000</td>\n",
       "      <td>5273.000000</td>\n",
       "    </tr>\n",
       "    <tr>\n",
       "      <th>mean</th>\n",
       "      <td>32.452304</td>\n",
       "      <td>64.956770</td>\n",
       "      <td>2291.390461</td>\n",
       "    </tr>\n",
       "    <tr>\n",
       "      <th>std</th>\n",
       "      <td>24.534723</td>\n",
       "      <td>30.177911</td>\n",
       "      <td>2269.014233</td>\n",
       "    </tr>\n",
       "    <tr>\n",
       "      <th>min</th>\n",
       "      <td>1.000000</td>\n",
       "      <td>18.250000</td>\n",
       "      <td>18.800000</td>\n",
       "    </tr>\n",
       "    <tr>\n",
       "      <th>25%</th>\n",
       "      <td>9.000000</td>\n",
       "      <td>35.500000</td>\n",
       "      <td>401.100000</td>\n",
       "    </tr>\n",
       "    <tr>\n",
       "      <th>50%</th>\n",
       "      <td>29.000000</td>\n",
       "      <td>70.450000</td>\n",
       "      <td>1410.250000</td>\n",
       "    </tr>\n",
       "    <tr>\n",
       "      <th>75%</th>\n",
       "      <td>55.000000</td>\n",
       "      <td>90.050000</td>\n",
       "      <td>3807.350000</td>\n",
       "    </tr>\n",
       "    <tr>\n",
       "      <th>max</th>\n",
       "      <td>72.000000</td>\n",
       "      <td>118.750000</td>\n",
       "      <td>8684.800000</td>\n",
       "    </tr>\n",
       "  </tbody>\n",
       "</table>\n",
       "</div>"
      ],
      "text/plain": [
       "       ClientPeriod  MonthlySpending   TotalSpent\n",
       "count   5273.000000      5273.000000  5273.000000\n",
       "mean      32.452304        64.956770  2291.390461\n",
       "std       24.534723        30.177911  2269.014233\n",
       "min        1.000000        18.250000    18.800000\n",
       "25%        9.000000        35.500000   401.100000\n",
       "50%       29.000000        70.450000  1410.250000\n",
       "75%       55.000000        90.050000  3807.350000\n",
       "max       72.000000       118.750000  8684.800000"
      ]
     },
     "execution_count": 7,
     "metadata": {},
     "output_type": "execute_result"
    }
   ],
   "source": [
    "# проанализируем числовые колонки\n",
    "data[num_cols].describe()"
   ]
  },
  {
   "cell_type": "code",
   "execution_count": 8,
   "metadata": {
    "id": "8z5lcVHDm8Zz"
   },
   "outputs": [
    {
     "name": "stdout",
     "output_type": "stream",
     "text": [
      "<class 'pandas.core.frame.DataFrame'>\n",
      "Int64Index: 5273 entries, 0 to 5281\n",
      "Data columns (total 20 columns):\n",
      " #   Column                    Non-Null Count  Dtype  \n",
      "---  ------                    --------------  -----  \n",
      " 0   ClientPeriod              5273 non-null   int64  \n",
      " 1   MonthlySpending           5273 non-null   float64\n",
      " 2   TotalSpent                5273 non-null   float64\n",
      " 3   Sex                       5273 non-null   object \n",
      " 4   IsSeniorCitizen           5273 non-null   int64  \n",
      " 5   HasPartner                5273 non-null   object \n",
      " 6   HasChild                  5273 non-null   object \n",
      " 7   HasPhoneService           5273 non-null   object \n",
      " 8   HasMultiplePhoneNumbers   5273 non-null   object \n",
      " 9   HasInternetService        5273 non-null   object \n",
      " 10  HasOnlineSecurityService  5273 non-null   object \n",
      " 11  HasOnlineBackup           5273 non-null   object \n",
      " 12  HasDeviceProtection       5273 non-null   object \n",
      " 13  HasTechSupportAccess      5273 non-null   object \n",
      " 14  HasOnlineTV               5273 non-null   object \n",
      " 15  HasMovieSubscription      5273 non-null   object \n",
      " 16  HasContractPhone          5273 non-null   object \n",
      " 17  IsBillingPaperless        5273 non-null   object \n",
      " 18  PaymentMethod             5273 non-null   object \n",
      " 19  Churn                     5273 non-null   int64  \n",
      "dtypes: float64(2), int64(3), object(15)\n",
      "memory usage: 865.1+ KB\n"
     ]
    }
   ],
   "source": [
    "data.info() # общие сведения о данных"
   ]
  },
  {
   "cell_type": "markdown",
   "metadata": {
    "id": "6BXL2Fw8rsip"
   },
   "source": [
    "$\\textbf{Построим круговые диаграммы для всех категориальных колонок}$"
   ]
  },
  {
   "cell_type": "code",
   "execution_count": 9,
   "metadata": {
    "colab": {
     "base_uri": "https://localhost:8080/",
     "height": 1000
    },
    "id": "NZkbgFJZEEZE",
    "outputId": "ef006ab2-36d1-4a80-cadd-7b710ae9864c",
    "scrolled": false
   },
   "outputs": [
    {
     "data": {
      "image/png": "[encoded data removed]",
      "text/plain": [
       "<Figure size 1224x4608 with 16 Axes>"
      ]
     },
     "metadata": {},
     "output_type": "display_data"
    }
   ],
   "source": [
    "k = 1\n",
    "plt.figure(figsize = (17, 64))\n",
    "for col in cat_cols:    \n",
    "    ax = plt.subplot(8, 2, k)\n",
    "    ax.set_title(cat_cols[k - 1])\n",
    "    labels = list(data[col].unique())\n",
    "    ax.pie(data[col].value_counts(), labels=labels, autopct='%1.2f%%', shadow=True, startangle=90, radius = 1.1)\n",
    "    k += 1"
   ]
  },
  {
   "cell_type": "markdown",
   "metadata": {
    "id": "iqNf0viIwh5w"
   },
   "source": [
    "$\\textbf{Проверим, являются ли классы сбалансированными}$"
   ]
  },
  {
   "cell_type": "code",
   "execution_count": 10,
   "metadata": {
    "colab": {
     "base_uri": "https://localhost:8080/"
    },
    "id": "fwfksF1gEEZI",
    "outputId": "4513a16b-5a20-4248-91ad-3ccdc33b59d9"
   },
   "outputs": [
    {
     "data": {
      "text/plain": [
       "0    3889\n",
       "1    1384\n",
       "Name: Churn, dtype: int64"
      ]
     },
     "execution_count": 10,
     "metadata": {},
     "output_type": "execute_result"
    }
   ],
   "source": [
    "data.Churn.value_counts()"
   ]
  },
  {
   "cell_type": "code",
   "execution_count": 11,
   "metadata": {
    "colab": {
     "base_uri": "https://localhost:8080/",
     "height": 482
    },
    "id": "EwHxdKJ3uCAK",
    "outputId": "ad900f74-ef9e-4dcc-9b82-9fa11e100491"
   },
   "outputs": [
    {
     "data": {
      "image/png": "[encoded data removed]",
      "text/plain": [
       "<Figure size 720x576 with 1 Axes>"
      ]
     },
     "metadata": {},
     "output_type": "display_data"
    }
   ],
   "source": [
    "col = 'Churn'\n",
    "plt.figure(figsize = (10, 8))\n",
    "plt.title('Churn')\n",
    "labels = list(data.Churn.unique())\n",
    "plt.pie(data[col].value_counts(), labels=labels, autopct='%1.2f%%', shadow=True, startangle=90, radius = 1.1)\n",
    "None"
   ]
  },
  {
   "cell_type": "markdown",
   "metadata": {
    "id": "vPISnkhswuaq"
   },
   "source": [
    "$\\textbf{Как видим, нулевой класс встречается почти в 4 раза чаще первый. Данные несбалансированны. Но этот дисбаланс не сильный (<10 раз)}$"
   ]
  },
  {
   "cell_type": "markdown",
   "metadata": {
    "id": "zmp6zxRhDZRE"
   },
   "source": [
    "$\\textbf{Посмотрим на распределение целевой переменной в зависимоти от числовых и категориальных}$\n",
    "\n",
    "$\\textbf{В некоторых случаях такой анализ может дать представление об интересующих нас зависимостях}$"
   ]
  },
  {
   "cell_type": "code",
   "execution_count": 12,
   "metadata": {
    "colab": {
     "base_uri": "https://localhost:8080/",
     "height": 1000
    },
    "id": "h5fpHtgum8Z1",
    "outputId": "3c12cc07-f0b2-4be0-adaf-cc1cf4277a20"
   },
   "outputs": [
    {
     "data": {
      "image/png": "[encoded data removed]",
      "text/plain": [
       "<Figure size 720x360 with 2 Axes>"
      ]
     },
     "metadata": {
      "needs_background": "light"
     },
     "output_type": "display_data"
    },
    {
     "data": {
      "image/png": "[encoded data removed]",
      "text/plain": [
       "<Figure size 720x360 with 2 Axes>"
      ]
     },
     "metadata": {
      "needs_background": "light"
     },
     "output_type": "display_data"
    },
    {
     "data": {
      "image/png": "[encoded data removed]",
      "text/plain": [
       "<Figure size 720x360 with 2 Axes>"
      ]
     },
     "metadata": {
      "needs_background": "light"
     },
     "output_type": "display_data"
    },
    {
     "data": {
      "image/png": "[encoded data removed]",
      "text/plain": [
       "<Figure size 720x360 with 2 Axes>"
      ]
     },
     "metadata": {
      "needs_background": "light"
     },
     "output_type": "display_data"
    },
    {
     "data": {
      "image/png": "[encoded data removed]",
      "text/plain": [
       "<Figure size 720x360 with 2 Axes>"
      ]
     },
     "metadata": {
      "needs_background": "light"
     },
     "output_type": "display_data"
    },
    {
     "data": {
      "image/png": "[encoded data removed]",
      "text/plain": [
       "<Figure size 720x360 with 2 Axes>"
      ]
     },
     "metadata": {
      "needs_background": "light"
     },
     "output_type": "display_data"
    },
    {
     "data": {
      "image/png": "[encoded data removed]",
      "text/plain": [
       "<Figure size 720x360 with 2 Axes>"
      ]
     },
     "metadata": {
      "needs_background": "light"
     },
     "output_type": "display_data"
    },
    {
     "data": {
      "image/png": "[encoded data removed]",
      "text/plain": [
       "<Figure size 720x360 with 2 Axes>"
      ]
     },
     "metadata": {
      "needs_background": "light"
     },
     "output_type": "display_data"
    },
    {
     "data": {
      "image/png": "[encoded data removed]",
      "text/plain": [
       "<Figure size 720x360 with 2 Axes>"
      ]
     },
     "metadata": {
      "needs_background": "light"
     },
     "output_type": "display_data"
    },
    {
     "data": {
      "image/png": "[encoded data removed]",
      "text/plain": [
       "<Figure size 720x360 with 2 Axes>"
      ]
     },
     "metadata": {
      "needs_background": "light"
     },
     "output_type": "display_data"
    },
    {
     "data": {
      "image/png": "[encoded data removed]",
      "text/plain": [
       "<Figure size 720x360 with 2 Axes>"
      ]
     },
     "metadata": {
      "needs_background": "light"
     },
     "output_type": "display_data"
    },
    {
     "data": {
      "image/png": "[encoded data removed]",
      "text/plain": [
       "<Figure size 720x360 with 2 Axes>"
      ]
     },
     "metadata": {
      "needs_background": "light"
     },
     "output_type": "display_data"
    },
    {
     "data": {
      "image/png": "[encoded data removed]",
      "text/plain": [
       "<Figure size 720x360 with 2 Axes>"
      ]
     },
     "metadata": {
      "needs_background": "light"
     },
     "output_type": "display_data"
    },
    {
     "data": {
      "image/png": "[encoded data removed]",
      "text/plain": [
       "<Figure size 720x360 with 2 Axes>"
      ]
     },
     "metadata": {
      "needs_background": "light"
     },
     "output_type": "display_data"
    },
    {
     "data": {
      "image/png": "[encoded data removed]",
      "text/plain": [
       "<Figure size 720x360 with 2 Axes>"
      ]
     },
     "metadata": {
      "needs_background": "light"
     },
     "output_type": "display_data"
    },
    {
     "data": {
      "image/png": "[encoded data removed]",
      "text/plain": [
       "<Figure size 720x360 with 2 Axes>"
      ]
     },
     "metadata": {
      "needs_background": "light"
     },
     "output_type": "display_data"
    },
    {
     "data": {
      "image/png": "[encoded data removed]",
      "text/plain": [
       "<Figure size 720x360 with 2 Axes>"
      ]
     },
     "metadata": {
      "needs_background": "light"
     },
     "output_type": "display_data"
    },
    {
     "data": {
      "image/png": "[encoded data removed]",
      "text/plain": [
       "<Figure size 720x360 with 2 Axes>"
      ]
     },
     "metadata": {
      "needs_background": "light"
     },
     "output_type": "display_data"
    },
    {
     "data": {
      "image/png": "[encoded data removed]",
      "text/plain": [
       "<Figure size 720x360 with 2 Axes>"
      ]
     },
     "metadata": {
      "needs_background": "light"
     },
     "output_type": "display_data"
    }
   ],
   "source": [
    "#распределение целевой переменной \n",
    "import seaborn as sns\n",
    "color = ['r', 'g', 'b']\n",
    "\n",
    "for i, x in enumerate(num_cols):\n",
    "  sns.displot(data=data, x=x, col=target_col, kde=True, color = color[i % 3])\n",
    "\n",
    "for i, x in enumerate(cat_cols):\n",
    "  sns.displot(data=data, x=x, col=target_col, kde=False, color = color[i % 3])\n",
    "\n",
    "None"
   ]
  },
  {
   "cell_type": "markdown",
   "metadata": {
    "id": "mADlZRgUEBbg"
   },
   "source": [
    "$\\Large\\textbf{Применение моделей машинного обучения для предсказания оттока пользователей}$\n",
    "\n",
    "$\\textbf{В качестве $baseline$ применим логистическую регрессию. Для оценки качества модели используем ROC-UAC score}$"
   ]
  },
  {
   "cell_type": "code",
   "execution_count": 13,
   "metadata": {
    "id": "xHCLDmwqEEZL"
   },
   "outputs": [],
   "source": [
    "from sklearn.linear_model import LogisticRegression, LogisticRegressionCV\n",
    "from sklearn.model_selection import train_test_split, GridSearchCV\n",
    "from sklearn.preprocessing import StandardScaler, RobustScaler, LabelEncoder, OneHotEncoder\n",
    "from sklearn.pipeline import make_pipeline, Pipeline\n",
    "from sklearn.compose import ColumnTransformer\n",
    "from sklearn.impute import SimpleImputer"
   ]
  },
  {
   "cell_type": "markdown",
   "metadata": {
    "id": "jtKiF9qNyzw3"
   },
   "source": [
    "1) Преобразуем (нормируем) числовые признаки с помощью StandardScaler (линейные модели работаю хорошо только с тнормированными признаками), пропущенные значения заменяем с помощью SimpleImputer на медианное значение.\n",
    "\n",
    "2) Категориальные признаки превращаем в one-hot вектора с помощью OneHotEncoder. \n",
    "\n",
    "3) Создаём Pipeline, состоящий из функции предобработки признаков и применяемой модели\n",
    "\n",
    "4) Задаём сетку гиперпрараметров, по которой будем искать оптимальные гиперпараметры для модели с помощью GridSearchCV"
   ]
  },
  {
   "cell_type": "code",
   "execution_count": 14,
   "metadata": {
    "id": "iSnhoJzXyyNI"
   },
   "outputs": [],
   "source": [
    "# преобразование числовых признаков\n",
    "numeric_transformer = Pipeline(steps=[\n",
    "    ('imputer', SimpleImputer(strategy='median')),\n",
    "    ('scaler', StandardScaler())])\n",
    "\n",
    "# преобразование категориальных признаков\n",
    "categorical_transformer = Pipeline(steps=[\n",
    "    ('imputer', SimpleImputer(strategy='constant', fill_value='missing')),\n",
    "    ('onehot', OneHotEncoder())])\n",
    "\n",
    "# общая предобработка данных\n",
    "preprocessor = ColumnTransformer(\n",
    "    transformers=[\n",
    "        ('num', numeric_transformer, num_cols),\n",
    "        ('cat', categorical_transformer, cat_cols)])\n",
    "\n",
    "# классификатор (модель)\n",
    "clf = Pipeline(steps=[('preprocessor', preprocessor),\n",
    "                      ('classifier', LogisticRegression())])\n",
    "\n",
    "# сетка гиперпараметров\n",
    "param_grid = [{\n",
    "    'classifier__C': [100, 10, 1, 0.5, 0.1, 0.01], \n",
    "    'classifier__penalty': ['l2']\n",
    "}]"
   ]
  },
  {
   "cell_type": "code",
   "execution_count": 15,
   "metadata": {
    "colab": {
     "base_uri": "https://localhost:8080/"
    },
    "id": "P2Yv3uYtEEZO",
    "outputId": "bc56bc8e-3a59-41c5-98b7-97beac1f5466",
    "scrolled": false
   },
   "outputs": [
    {
     "name": "stdout",
     "output_type": "stream",
     "text": [
      "{'classifier__C': 100, 'classifier__penalty': 'l2'}\n",
      "0.8448208909105489\n"
     ]
    }
   ],
   "source": [
    "# Используем GridSearchCV для поиска оптимальных гиперпараметров \n",
    "LogRer_Std_grid_search = GridSearchCV(clf, \n",
    "                            param_grid, \n",
    "                            cv=5,\n",
    "                            n_jobs=-1,\n",
    "                            refit=True,\n",
    "                            scoring='roc_auc')  \n",
    "\n",
    "LogRer_Std_grid_search.fit(data[feature_cols], data[target_col])\n",
    "\n",
    "print(LogRer_Std_grid_search.best_params_)\n",
    "print(LogRer_Std_grid_search.best_score_)"
   ]
  },
  {
   "cell_type": "code",
   "execution_count": 16,
   "metadata": {
    "colab": {
     "base_uri": "https://localhost:8080/"
    },
    "id": "38IMLX8lm8Z2",
    "outputId": "f9e45d7c-44fb-490a-848c-d1f65426596f"
   },
   "outputs": [
    {
     "name": "stdout",
     "output_type": "stream",
     "text": [
      "best_param_C = 100\n",
      "best_param_penalty = l2\n",
      "best_roc_auc_score =  0.8448208909105489\n"
     ]
    }
   ],
   "source": [
    "print('best_param_C =', LogRer_Std_grid_search.best_params_['classifier__C'])\n",
    "print('best_param_penalty =', LogRer_Std_grid_search.best_params_['classifier__penalty'])\n",
    "print('best_roc_auc_score = ', LogRer_Std_grid_search.best_score_)"
   ]
  },
  {
   "cell_type": "markdown",
   "metadata": {
    "id": "b5toSzxsI72J"
   },
   "source": [
    "$\\textbf{Вывод: удалось добиться качества 0.84 по метрике ROC-AUC на тестовых данных}$"
   ]
  },
  {
   "cell_type": "markdown",
   "metadata": {},
   "source": [
    "$\\textbf{Попробуем использовать RandomForestClassifier}$"
   ]
  },
  {
   "cell_type": "code",
   "execution_count": 66,
   "metadata": {},
   "outputs": [
    {
     "name": "stdout",
     "output_type": "stream",
     "text": [
      "best_param_max_depth = 10\n",
      "best_param_n_estimators = 50\n",
      "best_param_min_samples_leaf = 20\n",
      "best_param_criterion = gini\n",
      "best_roc_auc_score =  0.8448094363478456\n"
     ]
    }
   ],
   "source": [
    "from sklearn.ensemble import RandomForestClassifier\n",
    "\n",
    "numeric_transformer = Pipeline(steps=[\n",
    "    ('imputer', SimpleImputer(strategy='median')),\n",
    "    ('scaler', StandardScaler())])\n",
    "\n",
    "categorical_transformer = Pipeline(steps=[\n",
    "    ('imputer', SimpleImputer(strategy='constant', fill_value='missing')),\n",
    "    ('onehot', OneHotEncoder())])\n",
    "\n",
    "preprocessor = ColumnTransformer(\n",
    "    transformers=[\n",
    "        ('num', numeric_transformer, num_cols),\n",
    "        ('cat', categorical_transformer, cat_cols)])\n",
    "\n",
    "clf = Pipeline(steps=[('preprocessor', preprocessor),\n",
    "                      ('classifier', RandomForestClassifier(random_state = 42, n_jobs = -1))])\n",
    "\n",
    "\n",
    "\n",
    "param_grid = [{\n",
    "    'classifier__max_depth': [2, 5, 10, 20, 40],\n",
    "    'classifier__n_estimators': np.arange(2, 100, 4),\n",
    "    'classifier__min_samples_leaf': [2, 4, 8, 16, 20],\n",
    "    'classifier__criterion': ['gini', 'entropy']\n",
    "    }]\n",
    "\n",
    "Random_Forest_grid_search = GridSearchCV(\n",
    "                            clf,\n",
    "                            param_grid,              \n",
    "                            cv=3,\n",
    "                            n_jobs=-1,\n",
    "                            refit=True,\n",
    "                            scoring='roc_auc')    \n",
    "    \n",
    "Random_Forest_grid_search.fit(data[feature_cols], data[target_col])\n",
    "\n",
    "print('best_param_max_depth =', Random_Forest_grid_search.best_params_['classifier__max_depth'])\n",
    "print('best_param_n_estimators =', Random_Forest_grid_search.best_params_['classifier__n_estimators'])\n",
    "print('best_param_min_samples_leaf =', Random_Forest_grid_search.best_params_['classifier__min_samples_leaf'])\n",
    "print('best_param_criterion =', Random_Forest_grid_search.best_params_['classifier__criterion'])\n",
    "print('best_roc_auc_score = ', Random_Forest_grid_search.best_score_)"
   ]
  },
  {
   "cell_type": "markdown",
   "metadata": {},
   "source": [
    "$\\textbf{RandomForestClassifier даёт примерно такое же качество, как и логистическая регрессия: 0.845 по метрике ROC-AUC}$"
   ]
  },
  {
   "cell_type": "markdown",
   "metadata": {
    "id": "NoH9GzxYE5uR"
   },
   "source": [
    "$\\textbf{Попробуем использовать градиентный бустинг для достижения более высокого результата}$\n",
    "\n",
    "$\\textbf{В качестве модели применим CatBoostClassifier}$"
   ]
  },
  {
   "cell_type": "code",
   "execution_count": 18,
   "metadata": {
    "collapsed": true,
    "id": "fEc_NF9a2Zs7"
   },
   "outputs": [
    {
     "name": "stdout",
     "output_type": "stream",
     "text": [
      "Collecting catboost\n",
      "  Downloading catboost-1.0.4-cp39-none-win_amd64.whl (73.5 MB)\n",
      "Requirement already satisfied: six in c:\\users\\gds42\\anaconda3\\lib\\site-packages (from catboost) (1.16.0)\n",
      "Collecting plotly\n",
      "  Downloading plotly-5.6.0-py2.py3-none-any.whl (27.7 MB)\n",
      "Requirement already satisfied: numpy>=1.16.0 in c:\\users\\gds42\\anaconda3\\lib\\site-packages (from catboost) (1.20.3)\n",
      "Requirement already satisfied: matplotlib in c:\\users\\gds42\\anaconda3\\lib\\site-packages (from catboost) (3.4.3)\n",
      "Requirement already satisfied: pandas>=0.24.0 in c:\\users\\gds42\\anaconda3\\lib\\site-packages (from catboost) (1.3.4)\n",
      "Requirement already satisfied: scipy in c:\\users\\gds42\\anaconda3\\lib\\site-packages (from catboost) (1.7.1)\n",
      "Collecting graphviz\n",
      "  Downloading graphviz-0.19.1-py3-none-any.whl (46 kB)\n",
      "Requirement already satisfied: python-dateutil>=2.7.3 in c:\\users\\gds42\\anaconda3\\lib\\site-packages (from pandas>=0.24.0->catboost) (2.8.2)\n",
      "Requirement already satisfied: pytz>=2017.3 in c:\\users\\gds42\\anaconda3\\lib\\site-packages (from pandas>=0.24.0->catboost) (2021.3)\n",
      "Requirement already satisfied: kiwisolver>=1.0.1 in c:\\users\\gds42\\anaconda3\\lib\\site-packages (from matplotlib->catboost) (1.3.1)\n",
      "Requirement already satisfied: cycler>=0.10 in c:\\users\\gds42\\anaconda3\\lib\\site-packages (from matplotlib->catboost) (0.10.0)\n",
      "Requirement already satisfied: pillow>=6.2.0 in c:\\users\\gds42\\anaconda3\\lib\\site-packages (from matplotlib->catboost) (8.4.0)\n",
      "Requirement already satisfied: pyparsing>=2.2.1 in c:\\users\\gds42\\anaconda3\\lib\\site-packages (from matplotlib->catboost) (3.0.4)\n",
      "Collecting tenacity>=6.2.0\n",
      "  Downloading tenacity-8.0.1-py3-none-any.whl (24 kB)\n",
      "Installing collected packages: tenacity, plotly, graphviz, catboost\n",
      "Successfully installed catboost-1.0.4 graphviz-0.19.1 plotly-5.6.0 tenacity-8.0.1\n"
     ]
    }
   ],
   "source": [
    "!pip install catboost"
   ]
  },
  {
   "cell_type": "code",
   "execution_count": 15,
   "metadata": {},
   "outputs": [
    {
     "data": {
      "text/plain": [
       "<catboost.core.CatBoostClassifier at 0x1691b29aa00>"
      ]
     },
     "execution_count": 15,
     "metadata": {},
     "output_type": "execute_result"
    }
   ],
   "source": [
    "from catboost import CatBoostClassifier\n",
    "from sklearn.model_selection import train_test_split\n",
    "from sklearn.metrics import roc_auc_score\n",
    "from sklearn.metrics import accuracy_score\n",
    "\n",
    "train_data, validation_data, train_target, validation_target = train_test_split(data[feature_cols],\n",
    "                                                                                data[target_col],\n",
    "                                                                                test_size=0.1,\n",
    "                                                                                random_state = 2)\n",
    "\n",
    "\n",
    "CBC = CatBoostClassifier(cat_features = cat_cols,\n",
    "                         logging_level = 'Silent'                        \n",
    "                        ) \n",
    "\n",
    "\n",
    "CBC.fit(train_data, train_target)"
   ]
  },
  {
   "cell_type": "code",
   "execution_count": 16,
   "metadata": {},
   "outputs": [
    {
     "data": {
      "text/plain": [
       "0.8543849869936825"
      ]
     },
     "execution_count": 16,
     "metadata": {},
     "output_type": "execute_result"
    }
   ],
   "source": [
    "y_pred = CBC.predict_proba(validation_data)[:, 1]\n",
    "score = roc_auc_score(validation_target, y_pred)\n",
    "score"
   ]
  },
  {
   "cell_type": "markdown",
   "metadata": {},
   "source": [
    "$\\textbf{Результат, полученный на дефолтных параметрах, превосходит результат логистической регрессии}$\n",
    "\n",
    "$\\textbf{Попробуем улучшить результат, подобрав наилучшие гиперпараметры с помощью grid_search}$"
   ]
  },
  {
   "cell_type": "code",
   "execution_count": 32,
   "metadata": {},
   "outputs": [
    {
     "data": {
      "application/vnd.jupyter.widget-view+json": {
       "model_id": "71b747db990e46ee81bf669112e7cb92",
       "version_major": 2,
       "version_minor": 0
      },
      "text/plain": [
       "MetricVisualizer(layout=Layout(align_self='stretch', height='500px'))"
      ]
     },
     "metadata": {},
     "output_type": "display_data"
    }
   ],
   "source": [
    "CBC_1 = CatBoostClassifier(cat_features = cat_cols,\n",
    "                         logging_level = 'Silent',\n",
    "                         custom_loss = 'Accuracy',\n",
    "                         eval_metric = 'AUC:hints=skip_train~false'\n",
    "                        ) \n",
    "\n",
    "param_grid_1 = [{'max_depth': [1, 2, 4, 8],\n",
    "               'learning_rate': [0.25, 0.2, 0.1, 0.05, 0.01],\n",
    "               'num_trees': [50, 100, 200, 500, 800]}]\n",
    "\n",
    "\n",
    "grid_search_result_1 = CBC_1.grid_search(param_grid_1,\n",
    "                                    X = data[feature_cols],\n",
    "                                    y = data[target_col],\n",
    "                                    cv=3,\n",
    "                                    calc_cv_statistics=True,\n",
    "                                    search_by_train_test_split=True,\n",
    "                                    refit=True,\n",
    "                                    shuffle=True,\n",
    "                                    stratified=True,\n",
    "                                    train_size=0.8,\n",
    "                                    verbose=False,\n",
    "                                    plot=True)"
   ]
  },
  {
   "cell_type": "markdown",
   "metadata": {},
   "source": [
    "### Как видно, при максимальной глубине дерева больше 4 модель переобучается (на трейне ошибка почти нулевая, а на тесте больше, чем при меньшей глубине дерева - это ожидаемый результат). \n",
    "\n",
    "### Маленький learning rate $(\\le 0.05)$ даёт результаты хуже, чем больший lerning rate при любом числе итераций, но при маленьком числе итераций эта разница ярко выражена (это видно по просадкам в графике - модель не успевает обучиться, так как итераций мало и lerning rate тоже маленький). Поэтому можно сузить диапозон параметров. "
   ]
  },
  {
   "cell_type": "code",
   "execution_count": 34,
   "metadata": {},
   "outputs": [
    {
     "name": "stderr",
     "output_type": "stream",
     "text": [
      "Custom logger is already specified. Specify more than one logger at same time is not thread safe."
     ]
    },
    {
     "data": {
      "application/vnd.jupyter.widget-view+json": {
       "model_id": "0c085714d8fb48dbbae3301322113595",
       "version_major": 2,
       "version_minor": 0
      },
      "text/plain": [
       "MetricVisualizer(layout=Layout(align_self='stretch', height='500px'))"
      ]
     },
     "metadata": {},
     "output_type": "display_data"
    }
   ],
   "source": [
    "CBC_2 = CatBoostClassifier(cat_features = cat_cols,\n",
    "                         logging_level = 'Silent',\n",
    "                         custom_loss = 'Accuracy',\n",
    "                         eval_metric = 'AUC:hints=skip_train~false'\n",
    "                        ) \n",
    "\n",
    "\n",
    "param_grid_2 = [{'max_depth': [1, 2, 3, 4],\n",
    "               'learning_rate': [0.5, 0.25, 0.2, 0.1],\n",
    "               'num_trees': [20, 50, 100, 200, 400, 500, 800, 1000]}]\n",
    "\n",
    "\n",
    "grid_search_result_2 = CBC_2.grid_search(param_grid_2,\n",
    "                                    X = data[feature_cols],\n",
    "                                    y = data[target_col],\n",
    "                                    cv=3,\n",
    "                                    calc_cv_statistics=True,\n",
    "                                    search_by_train_test_split=True,\n",
    "                                    refit=True,\n",
    "                                    shuffle=True,\n",
    "                                    stratified=True,\n",
    "                                    train_size=0.8,\n",
    "                                    verbose=False,\n",
    "                                    plot=True)"
   ]
  },
  {
   "cell_type": "markdown",
   "metadata": {},
   "source": [
    "### Сузим поиск ещё немного. Вероятно, это уже излишне, но может дать небольшой прирост в качестве. \n",
    "\n",
    "### Например, при максимальной глубине дерева > 2 модель уже заметно переобучается.  Поэтому рассмотри только деревья глубиной 1 и 2"
   ]
  },
  {
   "cell_type": "code",
   "execution_count": 35,
   "metadata": {},
   "outputs": [
    {
     "data": {
      "application/vnd.jupyter.widget-view+json": {
       "model_id": "f4eb8d7b4a794274b1d1f4da3774daf5",
       "version_major": 2,
       "version_minor": 0
      },
      "text/plain": [
       "MetricVisualizer(layout=Layout(align_self='stretch', height='500px'))"
      ]
     },
     "metadata": {},
     "output_type": "display_data"
    }
   ],
   "source": [
    "CBC_3 = CatBoostClassifier(cat_features = cat_cols,\n",
    "                         logging_level = 'Silent',\n",
    "                         custom_loss = 'Accuracy',\n",
    "                         eval_metric = 'AUC:hints=skip_train~false'\n",
    "                        ) \n",
    "\n",
    "\n",
    "param_grid_3 = [{'max_depth': [1, 2],\n",
    "               'learning_rate': [0.4, 0.25, 0.2, 0.125],\n",
    "               'num_trees': [100, 200, 400, 500, 800]}]\n",
    "\n",
    "\n",
    "grid_search_result_3 = CBC_3.grid_search(param_grid_3,\n",
    "                                    X = data[feature_cols],\n",
    "                                    y = data[target_col],\n",
    "                                    cv=3,\n",
    "                                    calc_cv_statistics=True,\n",
    "                                    search_by_train_test_split=True,\n",
    "                                    refit=True,\n",
    "                                    shuffle=True,\n",
    "                                    stratified=True,\n",
    "                                    train_size=0.8,\n",
    "                                    verbose=False,\n",
    "                                    plot=True)"
   ]
  },
  {
   "cell_type": "markdown",
   "metadata": {},
   "source": [
    "### Итоговое качество на валидации составило 0.868, что лучше, чем у логистической регрессии, RandomForestClassifier или CatBoostClassifier с параметрами по умолчанию"
   ]
  },
  {
   "cell_type": "markdown",
   "metadata": {},
   "source": [
    "### Чтобы ещё немного улучшить результат, воспользуемся StackingClassifier-ом на трех лучших моделях, полученных выше. "
   ]
  },
  {
   "cell_type": "code",
   "execution_count": 44,
   "metadata": {
    "colab": {
     "base_uri": "https://localhost:8080/"
    },
    "id": "kTY3Z3bfm8Z3",
    "outputId": "0060323b-bf52-44fc-fc10-10c1d60e40c0"
   },
   "outputs": [
    {
     "data": {
      "text/plain": [
       "StackingClassifier(cv=3,\n",
       "                   estimators=[('cbc1',\n",
       "                                <catboost.core.CatBoostClassifier object at 0x00000169229038E0>),\n",
       "                               ('cbc2',\n",
       "                                <catboost.core.CatBoostClassifier object at 0x0000016922A8A4F0>),\n",
       "                               ('cbc3',\n",
       "                                <catboost.core.CatBoostClassifier object at 0x0000016922A8A460>)],\n",
       "                   final_estimator=LogisticRegression())"
      ]
     },
     "execution_count": 44,
     "metadata": {},
     "output_type": "execute_result"
    }
   ],
   "source": [
    "from sklearn.pipeline import make_pipeline\n",
    "from sklearn.ensemble import StackingClassifier\n",
    "from sklearn.ensemble import RandomForestClassifier\n",
    "from sklearn.metrics import accuracy_score\n",
    "\n",
    "\n",
    "estimators = [('cbc1', CBC_1),('cbc2', CBC_2), ('cbc3', CBC_3)]\n",
    "\n",
    "clf = StackingClassifier(estimators = estimators, final_estimator = LogisticRegression(), cv = 3)\n",
    "\n",
    "# y_pred = clf.fit(train_data, train_target).predict(validation_data)\n",
    "# y_pred_prob = clf.fit(train_data, train_target).predict_proba(validation_data)[:, 1]\n",
    "\n",
    "# print(accuracy_score(y_pred, validation_target))\n",
    "# print(roc_auc_score(validation_target, y_pred_prob))\n",
    "\n",
    "\n",
    "clf.fit(data[feature_cols], data[target_col])"
   ]
  },
  {
   "cell_type": "markdown",
   "metadata": {
    "id": "dDMXbvNZEEZV"
   },
   "source": [
    "# Предсказания"
   ]
  },
  {
   "cell_type": "code",
   "execution_count": 47,
   "metadata": {
    "id": "G_P4wFNaEEZW"
   },
   "outputs": [],
   "source": [
    "# выбор лучшей модели\n",
    "best_model = clf # CBC_1, CBC_2, CBC_3, Random_Forest_grid_search, LogRer_Std_grid_search"
   ]
  },
  {
   "cell_type": "code",
   "execution_count": 48,
   "metadata": {
    "colab": {
     "base_uri": "https://localhost:8080/"
    },
    "id": "0OUemg5Im8Z6",
    "outputId": "1f952120-9d3e-4c1c-8c8b-197751876afc"
   },
   "outputs": [
    {
     "data": {
      "text/plain": [
       "<catboost.core.CatBoostClassifier at 0x169229038e0>"
      ]
     },
     "execution_count": 48,
     "metadata": {},
     "output_type": "execute_result"
    }
   ],
   "source": [
    "# обучение лучшей модели\n",
    "best_model.fit(data[feature_cols], data[target_col])"
   ]
  },
  {
   "cell_type": "code",
   "execution_count": 49,
   "metadata": {
    "id": "NEhwOcW3m8Z6"
   },
   "outputs": [],
   "source": [
    "X_test = pd.read_csv('./test.csv')\n",
    "submission = pd.read_csv('./submission.csv')\n",
    "\n",
    "submission['Churn'] = best_model.predict_proba(X_test)[:, 1]\n",
    "submission.to_csv('./my_submission.csv', index=False)"
   ]
  },
  {
   "cell_type": "markdown",
   "metadata": {
    "id": "z7wImJlLPltk"
   },
   "source": [
    "### Удалось добиться качества 0.853 по метрике ROC-AUC на тестовой выборке, засабмиченной на Kaggle"
   ]
  }
 ],
 "metadata": {
  "colab": {
   "collapsed_sections": [],
   "name": " Baseline_Resume.ipynb\"",
   "provenance": []
  },
  "kernelspec": {
   "display_name": "Python 3 (ipykernel)",
   "language": "python",
   "name": "python3"
  },
  "language_info": {
   "codemirror_mode": {
    "name": "ipython",
    "version": 3
   },
   "file_extension": ".py",
   "mimetype": "text/x-python",
   "name": "python",
   "nbconvert_exporter": "python",
   "pygments_lexer": "ipython3",
   "version": "3.9.7"
  },
  "widgets": {
   "application/vnd.jupyter.widget-state+json": {
    "0718e86f094746f8bb4315cb3b097628": {
     "model_module": "catboost-widget",
     "model_module_version": "^1.0.0",
     "model_name": "CatboostWidgetModel",
     "state": {
      "_dom_classes": [],
      "_model_module": "catboost-widget",
      "_model_module_version": "^1.0.0",
      "_model_name": "CatboostWidgetModel",
      "_view_count": null,
      "_view_module": "catboost-widget",
      "_view_module_version": "^1.0.0",
      "_view_name": "CatboostWidgetView",
      "data": {
       "catboost_info": {
        "content": {
         "data": {
          "iterations": [
           {
            "iteration": 0,
            "learn": [
             0.6870728391,
             0.7854433381
            ],
            "passed_time": 0.01488513118,
            "remaining_time": 7.427680458,
            "test": [
             0.686857943,
             0.7962676657,
             0.7772511848
            ]
           },
           {
            "iteration": 1,
            "learn": [
             0.6812818948,
             0.7835467046
            ],
            "passed_time": 0.02853185889,
            "remaining_time": 7.104432862,
            "test": [
             0.680972563,
             0.8022016412,
             0.7725118483
            ]
           },
           {
            "iteration": 2,
            "learn": [
             0.6755969397,
             0.7961119014
            ],
            "passed_time": 0.04347965799,
            "remaining_time": 7.203130008,
            "test": [
             0.6752258518,
             0.8044513488,
             0.7962085308
            ]
           },
           {
            "iteration": 3,
            "learn": [
             0.670435422,
             0.7911332385
            ],
            "passed_time": 0.05814732536,
            "remaining_time": 7.210268345,
            "test": [
             0.6700705011,
             0.8081876474,
             0.7848341232
            ]
           },
           {
            "iteration": 4,
            "learn": [
             0.6646812654,
             0.7939781887
            ],
            "passed_time": 0.08254009567,
            "remaining_time": 8.171469471,
            "test": [
             0.6642140681,
             0.8118025411,
             0.7952606635
            ]
           },
           {
            "iteration": 5,
            "learn": [
             0.6587243583,
             0.7937411095
            ],
            "passed_time": 0.1134205448,
            "remaining_time": 9.338291525,
            "test": [
             0.6580244016,
             0.8212300054,
             0.7914691943
            ]
           },
           {
            "iteration": 6,
            "learn": [
             0.6533158939,
             0.7937411095
            ],
            "passed_time": 0.1418850355,
            "remaining_time": 9.992760356,
            "test": [
             0.6524248515,
             0.8242700838,
             0.8
            ]
           },
           {
            "iteration": 7,
            "learn": [
             0.6478993156,
             0.7920815552
            ],
            "passed_time": 0.1532978086,
            "remaining_time": 9.427815231,
            "test": [
             0.6467191815,
             0.8252809657,
             0.7971563981
            ]
           },
           {
            "iteration": 8,
            "learn": [
             0.6430182399,
             0.7923186344
            ],
            "passed_time": 0.1623958403,
            "remaining_time": 8.859595287,
            "test": [
             0.6415291236,
             0.8259548869,
             0.7981042654
            ]
           },
           {
            "iteration": 9,
            "learn": [
             0.6374147722,
             0.7935040303
            ],
            "passed_time": 0.1987066791,
            "remaining_time": 9.736627274,
            "test": [
             0.6356478389,
             0.8289008147,
             0.7990521327
            ]
           },
           {
            "iteration": 10,
            "learn": [
             0.6328969097,
             0.7937411095
            ],
            "passed_time": 0.2110438952,
            "remaining_time": 9.381860431,
            "test": [
             0.6308807465,
             0.8291733563,
             0.7990521327
            ]
           },
           {
            "iteration": 11,
            "learn": [
             0.6274209104,
             0.795637743
            ],
            "passed_time": 0.226747132,
            "remaining_time": 9.221050035,
            "test": [
             0.6253732805,
             0.8301297298,
             0.8018957346
            ]
           },
           {
            "iteration": 12,
            "learn": [
             0.6224437543,
             0.795637743
            ],
            "passed_time": 0.2408697657,
            "remaining_time": 9.023351991,
            "test": [
             0.6202301022,
             0.8306450814,
             0.8
            ]
           },
           {
            "iteration": 13,
            "learn": [
             0.617108196,
             0.7958748222
            ],
            "passed_time": 0.2534055759,
            "remaining_time": 8.796793564,
            "test": [
             0.6144832921,
             0.8320449545,
             0.8
            ]
           },
           {
            "iteration": 14,
            "learn": [
             0.61182038,
             0.7951635846
            ],
            "passed_time": 0.2760125491,
            "remaining_time": 8.924405755,
            "test": [
             0.6088288279,
             0.833278825,
             0.7981042654
            ]
           },
           {
            "iteration": 15,
            "learn": [
             0.607625807,
             0.7935040303
            ],
            "passed_time": 0.2850093135,
            "remaining_time": 8.621531734,
            "test": [
             0.6044097468,
             0.8332466155,
             0.7962085308
            ]
           },
           {
            "iteration": 16,
            "learn": [
             0.6037485308,
             0.7932669512
            ],
            "passed_time": 0.2919702482,
            "remaining_time": 8.295389993,
            "test": [
             0.6002646531,
             0.8332961686,
             0.7962085308
            ]
           },
           {
            "iteration": 17,
            "learn": [
             0.5992863702,
             0.7932669512
            ],
            "passed_time": 0.3070471737,
            "remaining_time": 8.222040986,
            "test": [
             0.5956292439,
             0.8334076629,
             0.7981042654
            ]
           },
           {
            "iteration": 18,
            "learn": [
             0.5948885655,
             0.7939781887
            ],
            "passed_time": 0.3319226898,
            "remaining_time": 8.402884936,
            "test": [
             0.5909777417,
             0.8335439337,
             0.7971563981
            ]
           },
           {
            "iteration": 19,
            "learn": [
             0.5906874641,
             0.7951635846
            ],
            "passed_time": 0.3607600392,
            "remaining_time": 8.658240941,
            "test": [
             0.5866522563,
             0.8335439337,
             0.7952606635
            ]
           },
           {
            "iteration": 20,
            "learn": [
             0.586864045,
             0.7937411095
            ],
            "passed_time": 0.3921044747,
            "remaining_time": 8.943716352,
            "test": [
             0.5827319773,
             0.8335265902,
             0.7952606635
            ]
           },
           {
            "iteration": 21,
            "learn": [
             0.5832878219,
             0.7958748222
            ],
            "passed_time": 0.413113455,
            "remaining_time": 8.975828705,
            "test": [
             0.579009667,
             0.833229272,
             0.7981042654
            ]
           },
           {
            "iteration": 22,
            "learn": [
             0.5798607557,
             0.7951635846
            ],
            "passed_time": 0.4253288645,
            "remaining_time": 8.820950799,
            "test": [
             0.5753751726,
             0.8328031159,
             0.7971563981
            ]
           },
           {
            "iteration": 23,
            "learn": [
             0.5759884987,
             0.7939781887
            ],
            "passed_time": 0.4504602735,
            "remaining_time": 8.934128757,
            "test": [
             0.5716342633,
             0.832567739,
             0.7962085308
            ]
           },
           {
            "iteration": 24,
            "learn": [
             0.5728678979,
             0.7937411095
            ],
            "passed_time": 0.4678679,
            "remaining_time": 8.889490101,
            "test": [
             0.5683029415,
             0.8323943034,
             0.7952606635
            ]
           },
           {
            "iteration": 25,
            "learn": [
             0.5693307896,
             0.7954006638
            ],
            "passed_time": 0.4924226158,
            "remaining_time": 8.977243072,
            "test": [
             0.5645872191,
             0.8323992587,
             0.7943127962
            ]
           },
           {
            "iteration": 26,
            "learn": [
             0.5662461022,
             0.7939781887
            ],
            "passed_time": 0.517530265,
            "remaining_time": 9.066363531,
            "test": [
             0.5613124519,
             0.8318789519,
             0.7943127962
            ]
           },
           {
            "iteration": 27,
            "learn": [
             0.5627291515,
             0.7944523471
            ],
            "passed_time": 0.5384371683,
            "remaining_time": 9.076512266,
            "test": [
             0.5575595285,
             0.8323125409,
             0.7933649289
            ]
           },
           {
            "iteration": 28,
            "learn": [
             0.5593677375,
             0.7944523471
            ],
            "passed_time": 0.553832504,
            "remaining_time": 8.995003772,
            "test": [
             0.5539722392,
             0.8326049038,
             0.7924170616
            ]
           },
           {
            "iteration": 29,
            "learn": [
             0.5562875471,
             0.7951635846
            ],
            "passed_time": 0.5691139133,
            "remaining_time": 8.916117975,
            "test": [
             0.5507903136,
             0.8325949932,
             0.7943127962
            ]
           },
           {
            "iteration": 30,
            "learn": [
             0.5531453919,
             0.7958748222
            ],
            "passed_time": 0.5985307959,
            "remaining_time": 9.055191718,
            "test": [
             0.5474702613,
             0.8326569345,
             0.7943127962
            ]
           },
           {
            "iteration": 31,
            "learn": [
             0.5500038643,
             0.7951635846
            ],
            "passed_time": 0.6219420556,
            "remaining_time": 9.095902562,
            "test": [
             0.5442434213,
             0.8327188757,
             0.7933649289
            ]
           },
           {
            "iteration": 32,
            "learn": [
             0.5470909635,
             0.795637743
            ],
            "passed_time": 0.6706219695,
            "remaining_time": 9.490316962,
            "test": [
             0.5412351633,
             0.8324562447,
             0.7933649289
            ]
           },
           {
            "iteration": 33,
            "learn": [
             0.5445007077,
             0.795637743
            ],
            "passed_time": 0.6970367904,
            "remaining_time": 9.553504245,
            "test": [
             0.5385024678,
             0.8324735882,
             0.7933649289
            ]
           },
           {
            "iteration": 34,
            "learn": [
             0.5418624736,
             0.7963489806
            ],
            "passed_time": 0.7244733913,
            "remaining_time": 9.625146485,
            "test": [
             0.5357600351,
             0.8320920299,
             0.7933649289
            ]
           },
           {
            "iteration": 35,
            "learn": [
             0.5390219041,
             0.7958748222
            ],
            "passed_time": 0.7522761313,
            "remaining_time": 9.69600347,
            "test": [
             0.5328047938,
             0.832339795,
             0.7933649289
            ]
           },
           {
            "iteration": 36,
            "learn": [
             0.5366112264,
             0.7954006638
            ],
            "passed_time": 0.7693918367,
            "remaining_time": 9.627795146,
            "test": [
             0.530396674,
             0.8320077897,
             0.7924170616
            ]
           },
           {
            "iteration": 37,
            "learn": [
             0.534123289,
             0.7944523471
            ],
            "passed_time": 0.8001764087,
            "remaining_time": 9.728460548,
            "test": [
             0.5278210644,
             0.8317104715,
             0.7943127962
            ]
           },
           {
            "iteration": 38,
            "learn": [
             0.5316223988,
             0.795637743
            ],
            "passed_time": 0.8221570603,
            "remaining_time": 9.718318072,
            "test": [
             0.525168274,
             0.8318442647,
             0.7943127962
            ]
           },
           {
            "iteration": 39,
            "learn": [
             0.5291854845,
             0.7954006638
            ],
            "passed_time": 0.8546724813,
            "remaining_time": 9.828733535,
            "test": [
             0.5224712064,
             0.8323893481,
             0.7933649289
            ]
           },
           {
            "iteration": 40,
            "learn": [
             0.5267210865,
             0.795637743
            ],
            "passed_time": 0.8902838607,
            "remaining_time": 9.966836392,
            "test": [
             0.5198189294,
             0.8328402807,
             0.7943127962
            ]
           },
           {
            "iteration": 41,
            "learn": [
             0.5245947342,
             0.7954006638
            ],
            "passed_time": 0.9148561661,
            "remaining_time": 9.976288669,
            "test": [
             0.5176017058,
             0.8325280966,
             0.7933649289
            ]
           },
           {
            "iteration": 42,
            "learn": [
             0.522159298,
             0.7954006638
            ],
            "passed_time": 0.9443821855,
            "remaining_time": 10.03680602,
            "test": [
             0.5150431215,
             0.8325925155,
             0.7933649289
            ]
           },
           {
            "iteration": 43,
            "learn": [
             0.5197775672,
             0.7961119014
            ],
            "passed_time": 0.965825393,
            "remaining_time": 10.00946316,
            "test": [
             0.5125656339,
             0.8327510852,
             0.7943127962
            ]
           },
           {
            "iteration": 44,
            "learn": [
             0.5176065732,
             0.7951635846
            ],
            "passed_time": 0.9799201773,
            "remaining_time": 9.908081793,
            "test": [
             0.5105440895,
             0.8325528731,
             0.7952606635
            ]
           },
           {
            "iteration": 45,
            "learn": [
             0.5151428851,
             0.7946894263
            ],
            "passed_time": 1.007678379,
            "remaining_time": 9.945347475,
            "test": [
             0.5079779476,
             0.8324488117,
             0.7943127962
            ]
           },
           {
            "iteration": 46,
            "learn": [
             0.5131499006,
             0.7949265055
            ],
            "passed_time": 1.032910184,
            "remaining_time": 9.95549603,
            "test": [
             0.5058616901,
             0.8323868704,
             0.7952606635
            ]
           },
           {
            "iteration": 47,
            "learn": [
             0.5112994488,
             0.7942152679
            ],
            "passed_time": 1.061287597,
            "remaining_time": 9.993791537,
            "test": [
             0.5038435387,
             0.8325305742,
             0.7952606635
            ]
           },
           {
            "iteration": 48,
            "learn": [
             0.5091943479,
             0.7958748222
            ],
            "passed_time": 1.094032101,
            "remaining_time": 10.06956076,
            "test": [
             0.5018002344,
             0.8328749678,
             0.7952606635
            ]
           },
           {
            "iteration": 49,
            "learn": [
             0.5072514336,
             0.7954006638
            ],
            "passed_time": 1.11778638,
            "remaining_time": 10.06007742,
            "test": [
             0.4997123329,
             0.833008761,
             0.7952606635
            ]
           },
           {
            "iteration": 50,
            "learn": [
             0.5053075091,
             0.7961119014
            ],
            "passed_time": 1.140543599,
            "remaining_time": 10.04125639,
            "test": [
             0.4978748631,
             0.8330781352,
             0.7952606635
            ]
           },
           {
            "iteration": 51,
            "learn": [
             0.5032414884,
             0.7970602181
            ],
            "passed_time": 1.153950754,
            "remaining_time": 9.941729569,
            "test": [
             0.4957876654,
             0.8334250064,
             0.7952606635
            ]
           },
           {
            "iteration": 52,
            "learn": [
             0.5012834612,
             0.7975343765
            ],
            "passed_time": 1.168109936,
            "remaining_time": 9.85179512,
            "test": [
             0.4937599075,
             0.8337669224,
             0.7952606635
            ]
           },
           {
            "iteration": 53,
            "learn": [
             0.4995459337,
             0.7972972973
            ],
            "passed_time": 1.192143257,
            "remaining_time": 9.846220236,
            "test": [
             0.4918650281,
             0.8341162712,
             0.7952606635
            ]
           },
           {
            "iteration": 54,
            "learn": [
             0.497685113,
             0.7972972973
            ],
            "passed_time": 1.217705523,
            "remaining_time": 9.852344688,
            "test": [
             0.4898687363,
             0.8347208182,
             0.7952606635
            ]
           },
           {
            "iteration": 55,
            "learn": [
             0.4959368325,
             0.7968231389
            ],
            "passed_time": 1.260510681,
            "remaining_time": 9.994048968,
            "test": [
             0.4881862479,
             0.8348422231,
             0.7981042654
            ]
           },
           {
            "iteration": 56,
            "learn": [
             0.4943226445,
             0.7968231389
            ],
            "passed_time": 1.274940195,
            "remaining_time": 9.908745727,
            "test": [
             0.4864822243,
             0.8348868209,
             0.7981042654
            ]
           },
           {
            "iteration": 57,
            "learn": [
             0.4926416528,
             0.7970602181
            ],
            "passed_time": 1.288369319,
            "remaining_time": 9.818262741,
            "test": [
             0.4847191304,
             0.8352138709,
             0.7971563981
            ]
           },
           {
            "iteration": 58,
            "learn": [
             0.4909546195,
             0.7977714557
            ],
            "passed_time": 1.302781474,
            "remaining_time": 9.737739491,
            "test": [
             0.4829443395,
             0.8356796694,
             0.7971563981
            ]
           },
           {
            "iteration": 59,
            "learn": [
             0.4893600821,
             0.7987197724
            ],
            "passed_time": 1.314307334,
            "remaining_time": 9.638253782,
            "test": [
             0.4812737807,
             0.83601663,
             0.7981042654
            ]
           },
           {
            "iteration": 60,
            "learn": [
             0.4878529411,
             0.79943101
            ],
            "passed_time": 1.339587168,
            "remaining_time": 9.640635523,
            "test": [
             0.4796087419,
             0.8363238588,
             0.7981042654
            ]
           },
           {
            "iteration": 61,
            "learn": [
             0.4862946104,
             0.79943101
            ],
            "passed_time": 1.371607744,
            "remaining_time": 9.689745029,
            "test": [
             0.4779919176,
             0.8368441656,
             0.7990521327
            ]
           },
           {
            "iteration": 62,
            "learn": [
             0.4846599842,
             0.7996680891
            ],
            "passed_time": 1.394941596,
            "remaining_time": 9.676023449,
            "test": [
             0.4763670236,
             0.8367797467,
             0.7981042654
            ]
           },
           {
            "iteration": 63,
            "learn": [
             0.483235835,
             0.7987197724
            ],
            "passed_time": 1.429078059,
            "remaining_time": 9.735594274,
            "test": [
             0.4748924404,
             0.8369581376,
             0.8009478673
            ]
           },
           {
            "iteration": 64,
            "learn": [
             0.4819616927,
             0.7987197724
            ],
            "passed_time": 1.458740384,
            "remaining_time": 9.76233949,
            "test": [
             0.4735594502,
             0.8369234505,
             0.8018957346
            ]
           },
           {
            "iteration": 65,
            "learn": [
             0.4806887567,
             0.7987197724
            ],
            "passed_time": 1.486592752,
            "remaining_time": 9.77547355,
            "test": [
             0.4722554776,
             0.837225724,
             0.8028436019
            ]
           },
           {
            "iteration": 66,
            "learn": [
             0.4792285133,
             0.7991939308
            ],
            "passed_time": 1.506359439,
            "remaining_time": 9.735128909,
            "test": [
             0.4707973526,
             0.8375081763,
             0.8037914692
            ]
           },
           {
            "iteration": 67,
            "learn": [
             0.4777388795,
             0.79943101
            ],
            "passed_time": 1.522623779,
            "remaining_time": 9.673139301,
            "test": [
             0.4693298325,
             0.8376370141,
             0.8028436019
            ]
           },
           {
            "iteration": 68,
            "learn": [
             0.4764540355,
             0.7987197724
            ],
            "passed_time": 1.551027391,
            "remaining_time": 9.688301531,
            "test": [
             0.4680791028,
             0.8378104497,
             0.8028436019
            ]
           },
           {
            "iteration": 69,
            "learn": [
             0.4751621169,
             0.7980085349
            ],
            "passed_time": 1.578324336,
            "remaining_time": 9.695420921,
            "test": [
             0.4667473066,
             0.8378253157,
             0.8028436019
            ]
           },
           {
            "iteration": 70,
            "learn": [
             0.4738408692,
             0.7984826932
            ],
            "passed_time": 1.608983301,
            "remaining_time": 9.721885019,
            "test": [
             0.4653574604,
             0.837929377,
             0.8028436019
            ]
           },
           {
            "iteration": 71,
            "learn": [
             0.4727221598,
             0.7999051683
            ],
            "passed_time": 1.633749621,
            "remaining_time": 9.711733859,
            "test": [
             0.4641395717,
             0.8381325444,
             0.8028436019
            ]
           },
           {
            "iteration": 72,
            "learn": [
             0.4716534964,
             0.8006164059
            ],
            "passed_time": 1.660423754,
            "remaining_time": 9.712341687,
            "test": [
             0.4630491482,
             0.838256427,
             0.8028436019
            ]
           },
           {
            "iteration": 73,
            "learn": [
             0.4704458346,
             0.8010905642
            ],
            "passed_time": 1.689487357,
            "remaining_time": 9.725967759,
            "test": [
             0.4619290687,
             0.838320846,
             0.8028436019
            ]
           },
           {
            "iteration": 74,
            "learn": [
             0.4693236,
             0.8013276434
            ],
            "passed_time": 1.718511461,
            "remaining_time": 9.738231613,
            "test": [
             0.4608869207,
             0.8383580107,
             0.8028436019
            ]
           },
           {
            "iteration": 75,
            "learn": [
             0.4681272577,
             0.8008534851
            ],
            "passed_time": 1.748275153,
            "remaining_time": 9.753535067,
            "test": [
             0.4597081814,
             0.8384521615,
             0.8028436019
            ]
           },
           {
            "iteration": 76,
            "learn": [
             0.4670607582,
             0.8003793267
            ],
            "passed_time": 1.781410266,
            "remaining_time": 9.786188866,
            "test": [
             0.4586002412,
             0.8384868486,
             0.8028436019
            ]
           },
           {
            "iteration": 77,
            "learn": [
             0.4659336552,
             0.8010905642
            ],
            "passed_time": 1.819974749,
            "remaining_time": 9.846530051,
            "test": [
             0.4575248252,
             0.8387395691,
             0.8037914692
            ]
           },
           {
            "iteration": 78,
            "learn": [
             0.464780774,
             0.8013276434
            ],
            "passed_time": 1.840527823,
            "remaining_time": 9.808382447,
            "test": [
             0.4563770197,
             0.8389278706,
             0.8047393365
            ]
           },
           {
            "iteration": 79,
            "learn": [
             0.4640092876,
             0.8003793267
            ],
            "passed_time": 1.865166516,
            "remaining_time": 9.792124208,
            "test": [
             0.4555253401,
             0.8390467979,
             0.8037914692
            ]
           },
           {
            "iteration": 80,
            "learn": [
             0.4629997215,
             0.7999051683
            ],
            "passed_time": 1.897702516,
            "remaining_time": 9.816510547,
            "test": [
             0.4545541671,
             0.839081485,
             0.8037914692
            ]
           },
           {
            "iteration": 81,
            "learn": [
             0.4622483629,
             0.8001422475
            ],
            "passed_time": 1.918647038,
            "remaining_time": 9.780420269,
            "test": [
             0.4536949808,
             0.839294563,
             0.8037914692
            ]
           },
           {
            "iteration": 82,
            "learn": [
             0.4613255031,
             0.7999051683
            ],
            "passed_time": 1.94470387,
            "remaining_time": 9.770379684,
            "test": [
             0.4528033007,
             0.8394283562,
             0.8028436019
            ]
           },
           {
            "iteration": 83,
            "learn": [
             0.4606556824,
             0.8010905642
            ],
            "passed_time": 1.965235435,
            "remaining_time": 9.732594533,
            "test": [
             0.4520332344,
             0.8396711661,
             0.8028436019
            ]
           },
           {
            "iteration": 84,
            "learn": [
             0.4596133468,
             0.8008534851
            ],
            "passed_time": 2.019744557,
            "remaining_time": 9.861105776,
            "test": [
             0.451034461,
             0.839800004,
             0.8028436019
            ]
           },
           {
            "iteration": 85,
            "learn": [
             0.4588643865,
             0.8008534851
            ],
            "passed_time": 2.039547963,
            "remaining_time": 9.81828903,
            "test": [
             0.4501674974,
             0.8398891994,
             0.8018957346
            ]
           },
           {
            "iteration": 86,
            "learn": [
             0.457859482,
             0.8008534851
            ],
            "passed_time": 2.052973527,
            "remaining_time": 9.745724902,
            "test": [
             0.4492098943,
             0.8398545123,
             0.8037914692
            ]
           },
           {
            "iteration": 87,
            "learn": [
             0.4570693879,
             0.8015647226
            ],
            "passed_time": 2.065179736,
            "remaining_time": 9.668796039,
            "test": [
             0.4483312805,
             0.840062635,
             0.8028436019
            ]
           },
           {
            "iteration": 88,
            "learn": [
             0.45649024,
             0.8013276434
            ],
            "passed_time": 2.071181529,
            "remaining_time": 9.564669758,
            "test": [
             0.4476511667,
             0.8400428138,
             0.8018957346
            ]
           },
           {
            "iteration": 89,
            "learn": [
             0.455781917,
             0.8013276434
            ],
            "passed_time": 2.087658183,
            "remaining_time": 9.510442835,
            "test": [
             0.4468284131,
             0.8402608472,
             0.8018957346
            ]
           },
           {
            "iteration": 90,
            "learn": [
             0.4549682688,
             0.8013276434
            ],
            "passed_time": 2.107914906,
            "remaining_time": 9.474035126,
            "test": [
             0.4459403727,
             0.8402806684,
             0.8018957346
            ]
           },
           {
            "iteration": 91,
            "learn": [
             0.4541289918,
             0.802038881
            ],
            "passed_time": 2.12304331,
            "remaining_time": 9.415235547,
            "test": [
             0.4450463943,
             0.8404714475,
             0.8018957346
            ]
           },
           {
            "iteration": 92,
            "learn": [
             0.4535557935,
             0.8015647226
            ],
            "passed_time": 2.130552028,
            "remaining_time": 9.324028769,
            "test": [
             0.4444395091,
             0.8405259559,
             0.8028436019
            ]
           },
           {
            "iteration": 93,
            "learn": [
             0.4526911021,
             0.802038881
            ],
            "passed_time": 2.144307393,
            "remaining_time": 9.261582994,
            "test": [
             0.4435722655,
             0.8407588551,
             0.8037914692
            ]
           },
           {
            "iteration": 94,
            "learn": [
             0.4522990783,
             0.802038881
            ],
            "passed_time": 2.156921021,
            "remaining_time": 9.195294878,
            "test": [
             0.443099981,
             0.8409620226,
             0.8028436019
            ]
           },
           {
            "iteration": 95,
            "learn": [
             0.4516214573,
             0.802038881
            ],
            "passed_time": 2.177219472,
            "remaining_time": 9.162465279,
            "test": [
             0.4424284865,
             0.8411800559,
             0.8037914692
            ]
           },
           {
            "iteration": 96,
            "learn": [
             0.4507579114,
             0.802038881
            ],
            "passed_time": 2.201078548,
            "remaining_time": 9.144687165,
            "test": [
             0.4416161642,
             0.8412742067,
             0.8037914692
            ]
           },
           {
            "iteration": 97,
            "learn": [
             0.4500644213,
             0.8027501185
            ],
            "passed_time": 2.215043167,
            "remaining_time": 9.08619748,
            "test": [
             0.4408430994,
             0.841442687,
             0.8028436019
            ]
           },
           {
            "iteration": 98,
            "learn": [
             0.4493377395,
             0.8032242769
            ],
            "passed_time": 2.234662278,
            "remaining_time": 9.051510845,
            "test": [
             0.4401077455,
             0.8414872847,
             0.8037914692
            ]
           },
           {
            "iteration": 99,
            "learn": [
             0.4485959562,
             0.8032242769
            ],
            "passed_time": 2.255993579,
            "remaining_time": 9.023974316,
            "test": [
             0.4393173314,
             0.8417449605,
             0.8028436019
            ]
           },
           {
            "iteration": 100,
            "learn": [
             0.4478276831,
             0.8039355145
            ],
            "passed_time": 2.274662348,
            "remaining_time": 8.986042346,
            "test": [
             0.4386041428,
             0.8417400052,
             0.8047393365
            ]
           },
           {
            "iteration": 101,
            "learn": [
             0.4471604111,
             0.8039355145
            ],
            "passed_time": 2.290064344,
            "remaining_time": 8.935741263,
            "test": [
             0.4379323581,
             0.8417647817,
             0.8037914692
            ]
           },
           {
            "iteration": 102,
            "learn": [
             0.446735397,
             0.8044096728
            ],
            "passed_time": 2.300100578,
            "remaining_time": 8.865436208,
            "test": [
             0.4374863204,
             0.8418391112,
             0.8037914692
            ]
           },
           {
            "iteration": 103,
            "learn": [
             0.4461025534,
             0.8048838312
            ],
            "passed_time": 2.328369784,
            "remaining_time": 8.865715717,
            "test": [
             0.4368646836,
             0.8418093794,
             0.8028436019
            ]
           },
           {
            "iteration": 104,
            "learn": [
             0.4455102171,
             0.8048838312
            ],
            "passed_time": 2.344034742,
            "remaining_time": 8.818035459,
            "test": [
             0.436332458,
             0.841769737,
             0.8037914692
            ]
           },
           {
            "iteration": 105,
            "learn": [
             0.4449214785,
             0.8048838312
            ],
            "passed_time": 2.362780769,
            "remaining_time": 8.782411538,
            "test": [
             0.4357645969,
             0.8417796476,
             0.8028436019
            ]
           },
           {
            "iteration": 106,
            "learn": [
             0.444230538,
             0.8048838312
            ],
            "passed_time": 2.401677622,
            "remaining_time": 8.821115004,
            "test": [
             0.4351049398,
             0.8418391112,
             0.8018957346
            ]
           },
           {
            "iteration": 107,
            "learn": [
             0.4436341475,
             0.8048838312
            ],
            "passed_time": 2.413734126,
            "remaining_time": 8.760960903,
            "test": [
             0.434468619,
             0.8419729044,
             0.8037914692
            ]
           },
           {
            "iteration": 108,
            "learn": [
             0.4431037576,
             0.8051209104
            ],
            "passed_time": 2.424760961,
            "remaining_time": 8.697995741,
            "test": [
             0.4339285463,
             0.8420868764,
             0.8028436019
            ]
           },
           {
            "iteration": 109,
            "learn": [
             0.4425007687,
             0.8051209104
            ],
            "passed_time": 2.441789959,
            "remaining_time": 8.657255308,
            "test": [
             0.4332400861,
             0.8421835048,
             0.8028436019
            ]
           },
           {
            "iteration": 110,
            "learn": [
             0.441783579,
             0.8048838312
            ],
            "passed_time": 2.470347836,
            "remaining_time": 8.657345121,
            "test": [
             0.4325931892,
             0.8423470298,
             0.8028436019
            ]
           },
           {
            "iteration": 111,
            "learn": [
             0.4413892851,
             0.8051209104
            ],
            "passed_time": 2.491964959,
            "remaining_time": 8.632878608,
            "test": [
             0.4321766366,
             0.8424064934,
             0.8028436019
            ]
           },
           {
            "iteration": 112,
            "learn": [
             0.4408229092,
             0.804646752
            ],
            "passed_time": 2.518074669,
            "remaining_time": 8.623848644,
            "test": [
             0.4316639134,
             0.8425601078,
             0.8028436019
            ]
           },
           {
            "iteration": 113,
            "learn": [
             0.440168773,
             0.8048838312
            ],
            "passed_time": 2.544388113,
            "remaining_time": 8.615208873,
            "test": [
             0.4311761651,
             0.842416404,
             0.8028436019
            ]
           },
           {
            "iteration": 114,
            "learn": [
             0.4396591247,
             0.8051209104
            ],
            "passed_time": 2.574390868,
            "remaining_time": 8.618612905,
            "test": [
             0.4306567676,
             0.8424213593,
             0.8018957346
            ]
           },
           {
            "iteration": 115,
            "learn": [
             0.4390027308,
             0.804646752
            ],
            "passed_time": 2.602609786,
            "remaining_time": 8.615535842,
            "test": [
             0.4301475729,
             0.8424659571,
             0.8018957346
            ]
           },
           {
            "iteration": 116,
            "learn": [
             0.4386833127,
             0.8051209104
            ],
            "passed_time": 2.614930192,
            "remaining_time": 8.559985158,
            "test": [
             0.4297710449,
             0.8424560465,
             0.8028436019
            ]
           },
           {
            "iteration": 117,
            "learn": [
             0.4380131633,
             0.8055950688
            ],
            "passed_time": 2.627326097,
            "remaining_time": 8.505411601,
            "test": [
             0.4290400634,
             0.8426592139,
             0.8037914692
            ]
           },
           {
            "iteration": 118,
            "learn": [
             0.4374478823,
             0.8055950688
            ],
            "passed_time": 2.641627835,
            "remaining_time": 8.457648782,
            "test": [
             0.4285538064,
             0.8426542586,
             0.8037914692
            ]
           },
           {
            "iteration": 119,
            "learn": [
             0.4369548995,
             0.8053579896
            ],
            "passed_time": 2.671677048,
            "remaining_time": 8.460310653,
            "test": [
             0.4281021803,
             0.8426889457,
             0.8028436019
            ]
           },
           {
            "iteration": 120,
            "learn": [
             0.4364907478,
             0.8055950688
            ],
            "passed_time": 2.688455123,
            "remaining_time": 8.420863568,
            "test": [
             0.4276736915,
             0.8428623813,
             0.8037914692
            ]
           },
           {
            "iteration": 121,
            "learn": [
             0.4360618507,
             0.8055950688
            ],
            "passed_time": 2.702233567,
            "remaining_time": 8.372494167,
            "test": [
             0.4272047756,
             0.8429912192,
             0.8037914692
            ]
           },
           {
            "iteration": 122,
            "learn": [
             0.4356528782,
             0.8051209104
            ],
            "passed_time": 2.711166734,
            "remaining_time": 8.309836249,
            "test": [
             0.4267869041,
             0.8430110404,
             0.8056872038
            ]
           },
           {
            "iteration": 123,
            "learn": [
             0.4350591725,
             0.8041725936
            ],
            "passed_time": 2.733360129,
            "remaining_time": 8.288253296,
            "test": [
             0.4262945378,
             0.8432687162,
             0.8066350711
            ]
           },
           {
            "iteration": 124,
            "learn": [
             0.4346223682,
             0.8051209104
            ],
            "passed_time": 2.755979722,
            "remaining_time": 8.267939167,
            "test": [
             0.4258188277,
             0.8432835821,
             0.8066350711
            ]
           },
           {
            "iteration": 125,
            "learn": [
             0.4339282607,
             0.8051209104
            ],
            "passed_time": 2.779882237,
            "remaining_time": 8.251396482,
            "test": [
             0.4251446521,
             0.8435016154,
             0.8066350711
            ]
           },
           {
            "iteration": 126,
            "learn": [
             0.4334814445,
             0.8053579896
            ],
            "passed_time": 2.803921128,
            "remaining_time": 8.235138432,
            "test": [
             0.4247036181,
             0.8434669283,
             0.8066350711
            ]
           },
           {
            "iteration": 127,
            "learn": [
             0.4329528436,
             0.8051209104
            ],
            "passed_time": 2.827072825,
            "remaining_time": 8.216180399,
            "test": [
             0.4242145542,
             0.8435214366,
             0.8066350711
            ]
           },
           {
            "iteration": 128,
            "learn": [
             0.43258714,
             0.8048838312
            ],
            "passed_time": 2.850677779,
            "remaining_time": 8.1984609,
            "test": [
             0.4238864477,
             0.8436403639,
             0.8066350711
            ]
           },
           {
            "iteration": 129,
            "learn": [
             0.4321173541,
             0.8051209104
            ],
            "passed_time": 2.870596212,
            "remaining_time": 8.170158449,
            "test": [
             0.4234218964,
             0.8437791124,
             0.8075829384
            ]
           },
           {
            "iteration": 130,
            "learn": [
             0.431669535,
             0.8058321479
            ],
            "passed_time": 2.898174869,
            "remaining_time": 8.163561271,
            "test": [
             0.4230129184,
             0.8438831738,
             0.8066350711
            ]
           },
           {
            "iteration": 131,
            "learn": [
             0.4312380245,
             0.8055950688
            ],
            "passed_time": 2.924436984,
            "remaining_time": 8.152975834,
            "test": [
             0.4226244016,
             0.8438930844,
             0.8075829384
            ]
           },
           {
            "iteration": 132,
            "learn": [
             0.4307190846,
             0.8055950688
            ],
            "passed_time": 2.951261882,
            "remaining_time": 8.1437076,
            "test": [
             0.4222447416,
             0.8438732632,
             0.8075829384
            ]
           },
           {
            "iteration": 133,
            "learn": [
             0.4304295423,
             0.8053579896
            ],
            "passed_time": 2.975248155,
            "remaining_time": 8.126424065,
            "test": [
             0.4219146909,
             0.8438881291,
             0.8075829384
            ]
           },
           {
            "iteration": 134,
            "learn": [
             0.4299891032,
             0.8060692271
            ],
            "passed_time": 3.011168245,
            "remaining_time": 8.141306737,
            "test": [
             0.4214670582,
             0.8440318329,
             0.8075829384
            ]
           },
           {
            "iteration": 135,
            "learn": [
             0.4296409435,
             0.8058321479
            ],
            "passed_time": 3.035983903,
            "remaining_time": 8.125721624,
            "test": [
             0.421065307,
             0.84406652,
             0.8066350711
            ]
           },
           {
            "iteration": 136,
            "learn": [
             0.4291362112,
             0.8063063063
            ],
            "passed_time": 3.069558413,
            "remaining_time": 8.133209518,
            "test": [
             0.4207233332,
             0.8442003132,
             0.8075829384
            ]
           },
           {
            "iteration": 137,
            "learn": [
             0.4289004067,
             0.8063063063
            ],
            "passed_time": 3.093678552,
            "remaining_time": 8.115301708,
            "test": [
             0.4204997026,
             0.8442647321,
             0.8085308057
            ]
           },
           {
            "iteration": 138,
            "learn": [
             0.4285367671,
             0.8067804647
            ],
            "passed_time": 3.107101016,
            "remaining_time": 8.069521343,
            "test": [
             0.4202988363,
             0.8441334166,
             0.8066350711
            ]
           },
           {
            "iteration": 139,
            "learn": [
             0.4281624485,
             0.8065433855
            ],
            "passed_time": 3.121230839,
            "remaining_time": 8.026022157,
            "test": [
             0.4199897824,
             0.8440442211,
             0.8056872038
            ]
           },
           {
            "iteration": 140,
            "learn": [
             0.4279224575,
             0.8070175439
            ],
            "passed_time": 3.128276921,
            "remaining_time": 7.964903649,
            "test": [
             0.4196678457,
             0.8440640423,
             0.8056872038
            ]
           },
           {
            "iteration": 141,
            "learn": [
             0.4275060533,
             0.8077287814
            ],
            "passed_time": 3.141432623,
            "remaining_time": 7.919949852,
            "test": [
             0.4193541331,
             0.8441482825,
             0.8066350711
            ]
           },
           {
            "iteration": 142,
            "learn": [
             0.4269404367,
             0.8077287814
            ],
            "passed_time": 3.171294182,
            "remaining_time": 7.917147014,
            "test": [
             0.4188670124,
             0.8442523439,
             0.8066350711
            ]
           },
           {
            "iteration": 143,
            "learn": [
             0.4264745415,
             0.8077287814
            ],
            "passed_time": 3.183872231,
            "remaining_time": 7.871239683,
            "test": [
             0.4185613114,
             0.844222612,
             0.8075829384
            ]
           },
           {
            "iteration": 144,
            "learn": [
             0.4261537154,
             0.8074917022
            ],
            "passed_time": 3.203550651,
            "remaining_time": 7.843175731,
            "test": [
             0.418235269,
             0.8442919863,
             0.8066350711
            ]
           },
           {
            "iteration": 145,
            "learn": [
             0.4256586756,
             0.8074917022
            ],
            "passed_time": 3.217209388,
            "remaining_time": 7.800630982,
            "test": [
             0.4177586077,
             0.8444208242,
             0.8075829384
            ]
           },
           {
            "iteration": 146,
            "learn": [
             0.4253187139,
             0.8074917022
            ],
            "passed_time": 3.227098656,
            "remaining_time": 7.749427385,
            "test": [
             0.4174414281,
             0.8443464946,
             0.8066350711
            ]
           },
           {
            "iteration": 147,
            "learn": [
             0.4249066131,
             0.8074917022
            ],
            "passed_time": 3.240235329,
            "remaining_time": 7.706505647,
            "test": [
             0.4171726885,
             0.8443316287,
             0.8066350711
            ]
           },
           {
            "iteration": 148,
            "learn": [
             0.424609773,
             0.8077287814
            ],
            "passed_time": 3.250986612,
            "remaining_time": 7.658364434,
            "test": [
             0.416903388,
             0.844336584,
             0.8066350711
            ]
           },
           {
            "iteration": 149,
            "learn": [
             0.4242745011,
             0.8077287814
            ],
            "passed_time": 3.264735386,
            "remaining_time": 7.617715901,
            "test": [
             0.4166367354,
             0.8443415393,
             0.8066350711
            ]
           },
           {
            "iteration": 150,
            "learn": [
             0.4239619247,
             0.8082029398
            ],
            "passed_time": 3.280925669,
            "remaining_time": 7.583066611,
            "test": [
             0.4163367008,
             0.844450556,
             0.8075829384
            ]
           },
           {
            "iteration": 151,
            "learn": [
             0.4237487714,
             0.8074917022
            ],
            "passed_time": 3.294385221,
            "remaining_time": 7.54240827,
            "test": [
             0.416059101,
             0.8444901984,
             0.8075829384
            ]
           },
           {
            "iteration": 152,
            "learn": [
             0.4234247884,
             0.8079658606
            ],
            "passed_time": 3.319436492,
            "remaining_time": 7.528395182,
            "test": [
             0.4158210214,
             0.8443910923,
             0.8075829384
            ]
           },
           {
            "iteration": 153,
            "learn": [
             0.4230958188,
             0.8082029398
            ],
            "passed_time": 3.342540831,
            "remaining_time": 7.509864464,
            "test": [
             0.4154912735,
             0.8444307348,
             0.8075829384
            ]
           },
           {
            "iteration": 154,
            "learn": [
             0.4227992889,
             0.8082029398
            ],
            "passed_time": 3.368958732,
            "remaining_time": 7.49865008,
            "test": [
             0.4152832708,
             0.8444059583,
             0.8075829384
            ]
           },
           {
            "iteration": 155,
            "learn": [
             0.4225203143,
             0.8086770982
            ],
            "passed_time": 3.397557838,
            "remaining_time": 7.492050618,
            "test": [
             0.4149949142,
             0.8444456007,
             0.8056872038
            ]
           },
           {
            "iteration": 156,
            "learn": [
             0.4221363915,
             0.8082029398
            ],
            "passed_time": 3.427950802,
            "remaining_time": 7.489089968,
            "test": [
             0.4146935263,
             0.8445100196,
             0.8066350711
            ]
           },
           {
            "iteration": 157,
            "learn": [
             0.4218120982,
             0.8086770982
            ],
            "passed_time": 3.458544719,
            "remaining_time": 7.486217051,
            "test": [
             0.4145145776,
             0.844386137,
             0.8066350711
            ]
           },
           {
            "iteration": 158,
            "learn": [
             0.4214208856,
             0.8089141773
            ],
            "passed_time": 3.487323151,
            "remaining_time": 7.479101851,
            "test": [
             0.4142276147,
             0.8444257795,
             0.8066350711
            ]
           },
           {
            "iteration": 159,
            "learn": [
             0.4210313499,
             0.8093883357
            ],
            "passed_time": 3.513396512,
            "remaining_time": 7.465967587,
            "test": [
             0.4140126722,
             0.8443613605,
             0.8085308057
            ]
           },
           {
            "iteration": 160,
            "learn": [
             0.4207332877,
             0.8093883357
            ],
            "passed_time": 3.547757308,
            "remaining_time": 7.470122531,
            "test": [
             0.4138040764,
             0.8444208242,
             0.8085308057
            ]
           },
           {
            "iteration": 161,
            "learn": [
             0.4204511913,
             0.8098624941
            ],
            "passed_time": 3.558590219,
            "remaining_time": 7.424712926,
            "test": [
             0.4135269263,
             0.8444356901,
             0.8085308057
            ]
           },
           {
            "iteration": 162,
            "learn": [
             0.420169438,
             0.8098624941
            ],
            "passed_time": 3.574200158,
            "remaining_time": 7.389604008,
            "test": [
             0.4132885143,
             0.8445347961,
             0.8075829384
            ]
           },
           {
            "iteration": 163,
            "learn": [
             0.4198785178,
             0.8108108108
            ],
            "passed_time": 3.585773707,
            "remaining_time": 7.346463205,
            "test": [
             0.4131084616,
             0.8445595727,
             0.8075829384
            ]
           },
           {
            "iteration": 164,
            "learn": [
             0.4197818624,
             0.8112849692
            ],
            "passed_time": 3.592550407,
            "remaining_time": 7.293965978,
            "test": [
             0.4129589271,
             0.8445942598,
             0.8085308057
            ]
           },
           {
            "iteration": 165,
            "learn": [
             0.4195591175,
             0.8112849692
            ],
            "passed_time": 3.609636423,
            "remaining_time": 7.262762442,
            "test": [
             0.4127588293,
             0.8445447067,
             0.8085308057
            ]
           },
           {
            "iteration": 166,
            "learn": [
             0.4192580117,
             0.81104789
            ],
            "passed_time": 3.637932279,
            "remaining_time": 7.254080531,
            "test": [
             0.4126126476,
             0.8444951537,
             0.8085308057
            ]
           },
           {
            "iteration": 167,
            "learn": [
             0.4189688435,
             0.8105737316
            ],
            "passed_time": 3.667089028,
            "remaining_time": 7.246866413,
            "test": [
             0.4124455614,
             0.8445199302,
             0.809478673
            ]
           },
           {
            "iteration": 168,
            "learn": [
             0.418727499,
             0.8108108108
            ],
            "passed_time": 3.693722993,
            "remaining_time": 7.234451542,
            "test": [
             0.4122179233,
             0.8445744386,
             0.8085308057
            ]
           },
           {
            "iteration": 169,
            "learn": [
             0.4183461708,
             0.81104789
            ],
            "passed_time": 3.724111966,
            "remaining_time": 7.229158523,
            "test": [
             0.412030624,
             0.8444555113,
             0.8085308057
            ]
           },
           {
            "iteration": 170,
            "learn": [
             0.4181839506,
             0.8112849692
            ],
            "passed_time": 3.752736482,
            "remaining_time": 7.220177208,
            "test": [
             0.4119083207,
             0.8445298408,
             0.8085308057
            ]
           },
           {
            "iteration": 171,
            "learn": [
             0.4180918027,
             0.81104789
            ],
            "passed_time": 3.768721271,
            "remaining_time": 7.186863818,
            "test": [
             0.4118037308,
             0.844549662,
             0.8085308057
            ]
           },
           {
            "iteration": 172,
            "learn": [
             0.4178759449,
             0.8115220484
            ],
            "passed_time": 3.796034465,
            "remaining_time": 7.175163411,
            "test": [
             0.4116927582,
             0.844564528,
             0.809478673
            ]
           },
           {
            "iteration": 173,
            "learn": [
             0.4175583051,
             0.8115220484
            ],
            "passed_time": 3.808618234,
            "remaining_time": 7.135687036,
            "test": [
             0.4115241255,
             0.8445793939,
             0.809478673
            ]
           },
           {
            "iteration": 174,
            "learn": [
             0.4172477799,
             0.8122332859
            ],
            "passed_time": 3.822752797,
            "remaining_time": 7.099398051,
            "test": [
             0.4113003744,
             0.8444753325,
             0.809478673
            ]
           },
           {
            "iteration": 175,
            "learn": [
             0.4170630749,
             0.8122332859
            ],
            "passed_time": 3.836397014,
            "remaining_time": 7.06245814,
            "test": [
             0.4111343391,
             0.8445744386,
             0.809478673
            ]
           },
           {
            "iteration": 176,
            "learn": [
             0.4169361665,
             0.8122332859
            ],
            "passed_time": 3.847278994,
            "remaining_time": 7.020740762,
            "test": [
             0.4110055719,
             0.8445942598,
             0.809478673
            ]
           },
           {
            "iteration": 177,
            "learn": [
             0.4167347536,
             0.8122332859
            ],
            "passed_time": 3.861707888,
            "remaining_time": 6.985786179,
            "test": [
             0.4107914549,
             0.8446239916,
             0.809478673
            ]
           },
           {
            "iteration": 178,
            "learn": [
             0.4164995306,
             0.8115220484
            ],
            "passed_time": 3.874649966,
            "remaining_time": 6.948394632,
            "test": [
             0.4106297984,
             0.8446339022,
             0.809478673
            ]
           },
           {
            "iteration": 179,
            "learn": [
             0.4162007142,
             0.8112849692
            ],
            "passed_time": 3.888918896,
            "remaining_time": 6.913633592,
            "test": [
             0.4103345231,
             0.8447131871,
             0.809478673
            ]
           },
           {
            "iteration": 180,
            "learn": [
             0.4159261323,
             0.8119962067
            ],
            "passed_time": 3.914645317,
            "remaining_time": 6.899292022,
            "test": [
             0.4101235455,
             0.8447330083,
             0.8085308057
            ]
           },
           {
            "iteration": 181,
            "learn": [
             0.4156816395,
             0.8122332859
            ],
            "passed_time": 3.942866935,
            "remaining_time": 6.889185083,
            "test": [
             0.4099432074,
             0.8448668015,
             0.809478673
            ]
           },
           {
            "iteration": 182,
            "learn": [
             0.4154816499,
             0.8122332859
            ],
            "passed_time": 3.962717479,
            "remaining_time": 6.864379459,
            "test": [
             0.4098044599,
             0.8448866227,
             0.8104265403
            ]
           },
           {
            "iteration": 183,
            "learn": [
             0.4154250319,
             0.8122332859
            ],
            "passed_time": 3.966287454,
            "remaining_time": 6.811667584,
            "test": [
             0.4097330852,
             0.8448668015,
             0.8113744076
            ]
           },
           {
            "iteration": 184,
            "learn": [
             0.4151680413,
             0.8117591275
            ],
            "passed_time": 3.980510634,
            "remaining_time": 6.777626215,
            "test": [
             0.4094974001,
             0.8449113992,
             0.8113744076
            ]
           },
           {
            "iteration": 185,
            "learn": [
             0.4150377548,
             0.8119962067
            ],
            "passed_time": 3.988521468,
            "remaining_time": 6.733310436,
            "test": [
             0.409387784,
             0.8449708628,
             0.8104265403
            ]
           },
           {
            "iteration": 186,
            "learn": [
             0.4148669899,
             0.8115220484
            ],
            "passed_time": 4.022625533,
            "remaining_time": 6.73305771,
            "test": [
             0.4092554318,
             0.844990684,
             0.8113744076
            ]
           },
           {
            "iteration": 187,
            "learn": [
             0.4145745388,
             0.8117591275
            ],
            "passed_time": 4.045297644,
            "remaining_time": 6.713472686,
            "test": [
             0.4089976026,
             0.8450204158,
             0.8104265403
            ]
           },
           {
            "iteration": 188,
            "learn": [
             0.4143195862,
             0.8117591275
            ],
            "passed_time": 4.062013881,
            "remaining_time": 6.684054587,
            "test": [
             0.4088559588,
             0.8450303265,
             0.8104265403
            ]
           },
           {
            "iteration": 189,
            "learn": [
             0.4142034123,
             0.8115220484
            ],
            "passed_time": 4.070356384,
            "remaining_time": 6.641107785,
            "test": [
             0.4087395845,
             0.8450947454,
             0.8104265403
            ]
           },
           {
            "iteration": 190,
            "learn": [
             0.4139405976,
             0.8119962067
            ],
            "passed_time": 4.084967153,
            "remaining_time": 6.608664138,
            "test": [
             0.4085638779,
             0.8451839409,
             0.8104265403
            ]
           },
           {
            "iteration": 191,
            "learn": [
             0.4137019024,
             0.8122332859
            ],
            "passed_time": 4.097736327,
            "remaining_time": 6.573452024,
            "test": [
             0.408462679,
             0.8450947454,
             0.809478673
            ]
           },
           {
            "iteration": 192,
            "learn": [
             0.4134518427,
             0.8122332859
            ],
            "passed_time": 4.11116845,
            "remaining_time": 6.539527017,
            "test": [
             0.4083203467,
             0.8451938515,
             0.809478673
            ]
           },
           {
            "iteration": 193,
            "learn": [
             0.4131552631,
             0.8119962067
            ],
            "passed_time": 4.130722734,
            "remaining_time": 6.515469879,
            "test": [
             0.4080880503,
             0.8451393431,
             0.809478673
            ]
           },
           {
            "iteration": 194,
            "learn": [
             0.4129702475,
             0.8122332859
            ],
            "passed_time": 4.145029172,
            "remaining_time": 6.483250756,
            "test": [
             0.4079772693,
             0.8452235833,
             0.809478673
            ]
           },
           {
            "iteration": 195,
            "learn": [
             0.412808926,
             0.8122332859
            ],
            "passed_time": 4.170570718,
            "remaining_time": 6.468640298,
            "test": [
             0.4079077616,
             0.8450997007,
             0.809478673
            ]
           },
           {
            "iteration": 196,
            "learn": [
             0.4125791346,
             0.8124703651
            ],
            "passed_time": 4.192104123,
            "remaining_time": 6.447754058,
            "test": [
             0.407724421,
             0.8451938515,
             0.809478673
            ]
           },
           {
            "iteration": 197,
            "learn": [
             0.412356981,
             0.8117591275
            ],
            "passed_time": 4.214307558,
            "remaining_time": 6.427883245,
            "test": [
             0.407638048,
             0.8451294325,
             0.809478673
            ]
           },
           {
            "iteration": 198,
            "learn": [
             0.4121892778,
             0.8117591275
            ],
            "passed_time": 4.228033333,
            "remaining_time": 6.395165997,
            "test": [
             0.4074838464,
             0.8452235833,
             0.8113744076
            ]
           },
           {
            "iteration": 199,
            "learn": [
             0.4119058602,
             0.8115220484
            ],
            "passed_time": 4.240549944,
            "remaining_time": 6.360824916,
            "test": [
             0.4073698489,
             0.8451442984,
             0.8113744076
            ]
           },
           {
            "iteration": 200,
            "learn": [
             0.411689139,
             0.8112849692
            ],
            "passed_time": 4.253952519,
            "remaining_time": 6.328018921,
            "test": [
             0.4072494233,
             0.8451938515,
             0.8104265403
            ]
           },
           {
            "iteration": 201,
            "learn": [
             0.4116287502,
             0.81104789
            ],
            "passed_time": 4.277211292,
            "remaining_time": 6.309945372,
            "test": [
             0.4071833421,
             0.845218628,
             0.8104265403
            ]
           },
           {
            "iteration": 202,
            "learn": [
             0.4115166758,
             0.8115220484
            ],
            "passed_time": 4.306738802,
            "remaining_time": 6.300992237,
            "test": [
             0.407081789,
             0.8451789856,
             0.809478673
            ]
           },
           {
            "iteration": 203,
            "learn": [
             0.4112955052,
             0.8119962067
            ],
            "passed_time": 4.331801762,
            "remaining_time": 6.28535942,
            "test": [
             0.406965834,
             0.8452235833,
             0.809478673
            ]
           },
           {
            "iteration": 204,
            "learn": [
             0.4110673938,
             0.8119962067
            ],
            "passed_time": 4.380486417,
            "remaining_time": 6.303626795,
            "test": [
             0.4068856907,
             0.8451442984,
             0.809478673
            ]
           },
           {
            "iteration": 205,
            "learn": [
             0.4109530433,
             0.8115220484
            ],
            "passed_time": 4.410460703,
            "remaining_time": 6.294541003,
            "test": [
             0.406818369,
             0.8452533151,
             0.809478673
            ]
           },
           {
            "iteration": 206,
            "learn": [
             0.4108395883,
             0.8117591275
            ],
            "passed_time": 4.44105533,
            "remaining_time": 6.286131458,
            "test": [
             0.4066920831,
             0.8452929575,
             0.809478673
            ]
           },
           {
            "iteration": 207,
            "learn": [
             0.4107090873,
             0.8119962067
            ],
            "passed_time": 4.475064617,
            "remaining_time": 6.282302251,
            "test": [
             0.4066490815,
             0.8453375553,
             0.809478673
            ]
           },
           {
            "iteration": 208,
            "learn": [
             0.4104669092,
             0.8119962067
            ],
            "passed_time": 4.505781661,
            "remaining_time": 6.273600304,
            "test": [
             0.4064935609,
             0.8453127787,
             0.809478673
            ]
           },
           {
            "iteration": 209,
            "learn": [
             0.4103299226,
             0.8119962067
            ],
            "passed_time": 4.533088796,
            "remaining_time": 6.259979766,
            "test": [
             0.4064151277,
             0.8453276446,
             0.809478673
            ]
           },
           {
            "iteration": 210,
            "learn": [
             0.4101487922,
             0.8124703651
            ],
            "passed_time": 4.563636295,
            "remaining_time": 6.250667721,
            "test": [
             0.4062952393,
             0.8454366613,
             0.809478673
            ]
           },
           {
            "iteration": 211,
            "learn": [
             0.4099713158,
             0.8124703651
            ],
            "passed_time": 4.589057575,
            "remaining_time": 6.234191423,
            "test": [
             0.4061707605,
             0.8454713484,
             0.8085308057
            ]
           },
           {
            "iteration": 212,
            "learn": [
             0.4098015647,
             0.8127074443
            ],
            "passed_time": 4.600321773,
            "remaining_time": 6.198555629,
            "test": [
             0.4060550535,
             0.8455258568,
             0.8085308057
            ]
           },
           {
            "iteration": 213,
            "learn": [
             0.4095382855,
             0.8131816027
            ],
            "passed_time": 4.612518174,
            "remaining_time": 6.164393447,
            "test": [
             0.4059175582,
             0.8455357674,
             0.8075829384
            ]
           },
           {
            "iteration": 214,
            "learn": [
             0.4093860016,
             0.8131816027
            ],
            "passed_time": 4.624706104,
            "remaining_time": 6.13042437,
            "test": [
             0.4058890572,
             0.8455308121,
             0.8066350711
            ]
           },
           {
            "iteration": 215,
            "learn": [
             0.4092080732,
             0.8131816027
            ],
            "passed_time": 4.654841525,
            "remaining_time": 6.120254597,
            "test": [
             0.4058286632,
             0.845496125,
             0.8066350711
            ]
           },
           {
            "iteration": 216,
            "learn": [
             0.4091493871,
             0.8134186818
            ],
            "passed_time": 4.678322662,
            "remaining_time": 6.101222642,
            "test": [
             0.4057925209,
             0.845481259,
             0.8066350711
            ]
           },
           {
            "iteration": 217,
            "learn": [
             0.4088908159,
             0.8134186818
            ],
            "passed_time": 4.708382086,
            "remaining_time": 6.090659395,
            "test": [
             0.4057561645,
             0.8454564825,
             0.8066350711
            ]
           },
           {
            "iteration": 218,
            "learn": [
             0.4087347416,
             0.813655761
            ],
            "passed_time": 4.736197235,
            "remaining_time": 6.077038461,
            "test": [
             0.405595642,
             0.8454911696,
             0.8066350711
            ]
           },
           {
            "iteration": 219,
            "learn": [
             0.4085443976,
             0.8134186818
            ],
            "passed_time": 4.762069012,
            "remaining_time": 6.060815106,
            "test": [
             0.4054528798,
             0.8455258568,
             0.8066350711
            ]
           },
           {
            "iteration": 220,
            "learn": [
             0.4084394194,
             0.8134186818
            ],
            "passed_time": 4.790876302,
            "remaining_time": 6.048210354,
            "test": [
             0.4053727055,
             0.8455407227,
             0.8066350711
            ]
           },
           {
            "iteration": 221,
            "learn": [
             0.4084058699,
             0.8134186818
            ],
            "passed_time": 4.806327677,
            "remaining_time": 6.018734658,
            "test": [
             0.4053123964,
             0.8455407227,
             0.8066350711
            ]
           },
           {
            "iteration": 222,
            "learn": [
             0.4082840195,
             0.813655761
            ],
            "passed_time": 4.823556868,
            "remaining_time": 5.991593061,
            "test": [
             0.4051843013,
             0.8455902757,
             0.8066350711
            ]
           },
           {
            "iteration": 223,
            "learn": [
             0.4079998789,
             0.8138928402
            ],
            "passed_time": 4.852839625,
            "remaining_time": 5.979391681,
            "test": [
             0.4050046936,
             0.84565965,
             0.8066350711
            ]
           },
           {
            "iteration": 224,
            "learn": [
             0.4078652603,
             0.8138928402
            ],
            "passed_time": 4.87979332,
            "remaining_time": 5.964191835,
            "test": [
             0.404894691,
             0.8457686666,
             0.8066350711
            ]
           },
           {
            "iteration": 225,
            "learn": [
             0.4077951338,
             0.8138928402
            ],
            "passed_time": 4.897362441,
            "remaining_time": 5.937510216,
            "test": [
             0.4048231293,
             0.845709203,
             0.8066350711
            ]
           },
           {
            "iteration": 226,
            "learn": [
             0.4076869808,
             0.8138928402
            ],
            "passed_time": 4.929729276,
            "remaining_time": 5.928705253,
            "test": [
             0.404781919,
             0.8457191136,
             0.8066350711
            ]
           },
           {
            "iteration": 227,
            "learn": [
             0.4076549871,
             0.8138928402
            ],
            "passed_time": 4.941287216,
            "remaining_time": 5.894868959,
            "test": [
             0.4047365823,
             0.8457191136,
             0.8066350711
            ]
           },
           {
            "iteration": 228,
            "learn": [
             0.4074307679,
             0.8141299194
            ],
            "passed_time": 4.972037289,
            "remaining_time": 5.883939324,
            "test": [
             0.4046358113,
             0.8457934431,
             0.8066350711
            ]
           },
           {
            "iteration": 229,
            "learn": [
             0.4073143923,
             0.8143669986
            ],
            "passed_time": 5.004055664,
            "remaining_time": 5.874326214,
            "test": [
             0.4045929072,
             0.8456893818,
             0.8066350711
            ]
           },
           {
            "iteration": 230,
            "learn": [
             0.4072418166,
             0.8138928402
            ],
            "passed_time": 5.050368328,
            "remaining_time": 5.881164849,
            "test": [
             0.4045271881,
             0.8456992924,
             0.8056872038
            ]
           },
           {
            "iteration": 231,
            "learn": [
             0.4070179174,
             0.8143669986
            ],
            "passed_time": 5.090742747,
            "remaining_time": 5.880685587,
            "test": [
             0.4045345761,
             0.8456348734,
             0.8047393365
            ]
           },
           {
            "iteration": 232,
            "learn": [
             0.407014015,
             0.8143669986
            ],
            "passed_time": 5.095519756,
            "remaining_time": 5.839071995,
            "test": [
             0.4045168827,
             0.8456348734,
             0.8047393365
            ]
           },
           {
            "iteration": 233,
            "learn": [
             0.4068676329,
             0.8146040778
            ],
            "passed_time": 5.125254679,
            "remaining_time": 5.826144207,
            "test": [
             0.4044682807,
             0.8457042477,
             0.8047393365
            ]
           },
           {
            "iteration": 234,
            "learn": [
             0.4066871752,
             0.8146040778
            ],
            "passed_time": 5.160781761,
            "remaining_time": 5.819604965,
            "test": [
             0.4043897235,
             0.8457191136,
             0.8056872038
            ]
           },
           {
            "iteration": 235,
            "learn": [
             0.4065237474,
             0.8148411569
            ],
            "passed_time": 5.196292204,
            "remaining_time": 5.812801448,
            "test": [
             0.4043379839,
             0.8457141583,
             0.8047393365
            ]
           },
           {
            "iteration": 236,
            "learn": [
             0.4064675993,
             0.8150782361
            ],
            "passed_time": 5.217230006,
            "remaining_time": 5.789584353,
            "test": [
             0.4042590959,
             0.8457191136,
             0.8047393365
            ]
           },
           {
            "iteration": 237,
            "learn": [
             0.4063290725,
             0.8150782361
            ],
            "passed_time": 5.251445317,
            "remaining_time": 5.781002828,
            "test": [
             0.404168334,
             0.8457389348,
             0.8047393365
            ]
           },
           {
            "iteration": 238,
            "learn": [
             0.4061630263,
             0.8153153153
            ],
            "passed_time": 5.279430552,
            "remaining_time": 5.765403238,
            "test": [
             0.4040484109,
             0.8458182197,
             0.8047393365
            ]
           },
           {
            "iteration": 239,
            "learn": [
             0.4060019622,
             0.8150782361
            ],
            "passed_time": 5.306406486,
            "remaining_time": 5.748607026,
            "test": [
             0.4039557419,
             0.8458182197,
             0.8047393365
            ]
           },
           {
            "iteration": 240,
            "learn": [
             0.4058603878,
             0.8148411569
            ],
            "passed_time": 5.334366531,
            "remaining_time": 5.732783949,
            "test": [
             0.4038085765,
             0.8459371469,
             0.8047393365
            ]
           },
           {
            "iteration": 241,
            "learn": [
             0.405685401,
             0.8148411569
            ],
            "passed_time": 5.358376963,
            "remaining_time": 5.71264982,
            "test": [
             0.4036684335,
             0.8459421022,
             0.8056872038
            ]
           },
           {
            "iteration": 242,
            "learn": [
             0.4055329777,
             0.8155523945
            ],
            "passed_time": 5.371308911,
            "remaining_time": 5.680767038,
            "test": [
             0.4035861245,
             0.8459767894,
             0.8056872038
            ]
           },
           {
            "iteration": 243,
            "learn": [
             0.4053692976,
             0.8157894737
            ],
            "passed_time": 5.40085445,
            "remaining_time": 5.666470242,
            "test": [
             0.403523717,
             0.8460065212,
             0.8056872038
            ]
           },
           {
            "iteration": 244,
            "learn": [
             0.4051843669,
             0.8155523945
            ],
            "passed_time": 5.42795911,
            "remaining_time": 5.649508462,
            "test": [
             0.4034270028,
             0.8460709401,
             0.8066350711
            ]
           },
           {
            "iteration": 245,
            "learn": [
             0.4050373816,
             0.8155523945
            ],
            "passed_time": 5.441907739,
            "remaining_time": 5.618880348,
            "test": [
             0.403371697,
             0.8461452697,
             0.8066350711
            ]
           },
           {
            "iteration": 246,
            "learn": [
             0.4049186783,
             0.8155523945
            ],
            "passed_time": 5.456650864,
            "remaining_time": 5.589201087,
            "test": [
             0.4033066882,
             0.8461700462,
             0.8066350711
            ]
           },
           {
            "iteration": 247,
            "learn": [
             0.4048118374,
             0.8155523945
            ],
            "passed_time": 5.469590582,
            "remaining_time": 5.557809785,
            "test": [
             0.403266927,
             0.8460610295,
             0.8056872038
            ]
           },
           {
            "iteration": 248,
            "learn": [
             0.4046940487,
             0.8155523945
            ],
            "passed_time": 5.483679157,
            "remaining_time": 5.527724772,
            "test": [
             0.4032221206,
             0.8460758954,
             0.8066350711
            ]
           },
           {
            "iteration": 249,
            "learn": [
             0.4045195512,
             0.8157894737
            ],
            "passed_time": 5.498777721,
            "remaining_time": 5.498777721,
            "test": [
             0.4031903635,
             0.8460560742,
             0.8056872038
            ]
           },
           {
            "iteration": 250,
            "learn": [
             0.4043945871,
             0.8155523945
            ],
            "passed_time": 5.511949823,
            "remaining_time": 5.468029904,
            "test": [
             0.4031320339,
             0.8460957166,
             0.8066350711
            ]
           },
           {
            "iteration": 251,
            "learn": [
             0.4041751233,
             0.8157894737
            ],
            "passed_time": 5.542920999,
            "remaining_time": 5.454938126,
            "test": [
             0.403009155,
             0.8461155378,
             0.8066350711
            ]
           },
           {
            "iteration": 252,
            "learn": [
             0.404104371,
             0.8157894737
            ],
            "passed_time": 5.564867002,
            "remaining_time": 5.432893872,
            "test": [
             0.4029704718,
             0.8460758954,
             0.8066350711
            ]
           },
           {
            "iteration": 253,
            "learn": [
             0.4039953486,
             0.8157894737
            ],
            "passed_time": 5.584818444,
            "remaining_time": 5.408918651,
            "test": [
             0.4029773102,
             0.8460065212,
             0.8066350711
            ]
           },
           {
            "iteration": 254,
            "learn": [
             0.4038564708,
             0.8160265529
            ],
            "passed_time": 5.597005634,
            "remaining_time": 5.377515217,
            "test": [
             0.4028895847,
             0.8461304038,
             0.8066350711
            ]
           },
           {
            "iteration": 255,
            "learn": [
             0.4037400759,
             0.8160265529
            ],
            "passed_time": 5.611329122,
            "remaining_time": 5.348298069,
            "test": [
             0.4028238504,
             0.846199778,
             0.8066350711
            ]
           },
           {
            "iteration": 256,
            "learn": [
             0.4036460556,
             0.8162636321
            ],
            "passed_time": 5.624696907,
            "remaining_time": 5.318293185,
            "test": [
             0.4028264182,
             0.8461105825,
             0.8066350711
            ]
           },
           {
            "iteration": 257,
            "learn": [
             0.4034670696,
             0.8162636321
            ],
            "passed_time": 5.63783399,
            "remaining_time": 5.288200874,
            "test": [
             0.4028240416,
             0.8460957166,
             0.8066350711
            ]
           },
           {
            "iteration": 258,
            "learn": [
             0.4033698427,
             0.8160265529
            ],
            "passed_time": 5.656429131,
            "remaining_time": 5.263318227,
            "test": [
             0.4027865535,
             0.8461105825,
             0.8066350711
            ]
           },
           {
            "iteration": 259,
            "learn": [
             0.4032929448,
             0.8155523945
            ],
            "passed_time": 5.691677432,
            "remaining_time": 5.253856091,
            "test": [
             0.4027562131,
             0.8460808507,
             0.8066350711
            ]
           },
           {
            "iteration": 260,
            "learn": [
             0.4031678876,
             0.8160265529
            ],
            "passed_time": 5.711091799,
            "remaining_time": 5.229697088,
            "test": [
             0.4027082395,
             0.8461700462,
             0.8066350711
            ]
           },
           {
            "iteration": 261,
            "learn": [
             0.4031325328,
             0.8160265529
            ],
            "passed_time": 5.728397058,
            "remaining_time": 5.203658397,
            "test": [
             0.4026668548,
             0.8461452697,
             0.8066350711
            ]
           },
           {
            "iteration": 262,
            "learn": [
             0.4030791162,
             0.8160265529
            ],
            "passed_time": 5.755792401,
            "remaining_time": 5.186778703,
            "test": [
             0.4026458617,
             0.8461353591,
             0.8066350711
            ]
           },
           {
            "iteration": 263,
            "learn": [
             0.4028950997,
             0.8157894737
            ],
            "passed_time": 5.789314742,
            "remaining_time": 5.175296512,
            "test": [
             0.4026022619,
             0.8462295098,
             0.8075829384
            ]
           },
           {
            "iteration": 264,
            "learn": [
             0.4027764306,
             0.8157894737
            ],
            "passed_time": 5.825015289,
            "remaining_time": 5.165579596,
            "test": [
             0.4025564889,
             0.846199778,
             0.8075829384
            ]
           },
           {
            "iteration": 265,
            "learn": [
             0.4026123884,
             0.8157894737
            ],
            "passed_time": 5.844519054,
            "remaining_time": 5.141419017,
            "test": [
             0.4024509488,
             0.8462195992,
             0.8075829384
            ]
           },
           {
            "iteration": 266,
            "learn": [
             0.4023846459,
             0.8153153153
            ],
            "passed_time": 5.873296165,
            "remaining_time": 5.125385792,
            "test": [
             0.4023818544,
             0.8462988841,
             0.8075829384
            ]
           },
           {
            "iteration": 267,
            "learn": [
             0.4022708581,
             0.8155523945
            ],
            "passed_time": 5.911690282,
            "remaining_time": 5.117582633,
            "test": [
             0.4023475058,
             0.8462542863,
             0.8075829384
            ]
           },
           {
            "iteration": 268,
            "learn": [
             0.4021840237,
             0.8160265529
            ],
            "passed_time": 5.941022907,
            "remaining_time": 5.101770601,
            "test": [
             0.4022798219,
             0.846249331,
             0.8075829384
            ]
           },
           {
            "iteration": 269,
            "learn": [
             0.4020921017,
             0.8155523945
            ],
            "passed_time": 5.962888882,
            "remaining_time": 5.079497937,
            "test": [
             0.4021965591,
             0.8462146439,
             0.8075829384
            ]
           },
           {
            "iteration": 270,
            "learn": [
             0.4019914233,
             0.8157894737
            ],
            "passed_time": 5.98773028,
            "remaining_time": 5.059742561,
            "test": [
             0.402143243,
             0.846249331,
             0.8075829384
            ]
           },
           {
            "iteration": 271,
            "learn": [
             0.4018297402,
             0.8162636321
            ],
            "passed_time": 6.020815624,
            "remaining_time": 5.046860156,
            "test": [
             0.40208766,
             0.8462889735,
             0.8075829384
            ]
           },
           {
            "iteration": 272,
            "learn": [
             0.4016983902,
             0.8165007112
            ],
            "passed_time": 6.053460981,
            "remaining_time": 5.033463893,
            "test": [
             0.4020851081,
             0.8462741075,
             0.8085308057
            ]
           },
           {
            "iteration": 273,
            "learn": [
             0.401602645,
             0.8157894737
            ],
            "passed_time": 6.104780648,
            "remaining_time": 5.035330023,
            "test": [
             0.402037696,
             0.8462939288,
             0.8085308057
            ]
           },
           {
            "iteration": 274,
            "learn": [
             0.4014625623,
             0.8157894737
            ],
            "passed_time": 6.129903127,
            "remaining_time": 5.015375285,
            "test": [
             0.4019239281,
             0.8463434818,
             0.8085308057
            ]
           },
           {
            "iteration": 275,
            "learn": [
             0.4014459333,
             0.8157894737
            ],
            "passed_time": 6.148849848,
            "remaining_time": 4.990370891,
            "test": [
             0.4018944129,
             0.8463385265,
             0.8085308057
            ]
           },
           {
            "iteration": 276,
            "learn": [
             0.4013456324,
             0.8157894737
            ],
            "passed_time": 6.18134384,
            "remaining_time": 4.976316521,
            "test": [
             0.4018360735,
             0.8463286159,
             0.8085308057
            ]
           },
           {
            "iteration": 277,
            "learn": [
             0.4012341389,
             0.8157894737
            ],
            "passed_time": 6.213818612,
            "remaining_time": 4.962114143,
            "test": [
             0.4018015865,
             0.84631375,
             0.8085308057
            ]
           },
           {
            "iteration": 278,
            "learn": [
             0.4010456563,
             0.8162636321
            ],
            "passed_time": 6.247266025,
            "remaining_time": 4.948551224,
            "test": [
             0.4017426962,
             0.846412856,
             0.8085308057
            ]
           },
           {
            "iteration": 279,
            "learn": [
             0.400886887,
             0.8167377904
            ],
            "passed_time": 6.272582349,
            "remaining_time": 4.92845756,
            "test": [
             0.401701419,
             0.8463979901,
             0.8085308057
            ]
           },
           {
            "iteration": 280,
            "learn": [
             0.4007982959,
             0.8169748696
            ],
            "passed_time": 6.301075599,
            "remaining_time": 4.910802691,
            "test": [
             0.4016416604,
             0.8464227666,
             0.809478673
            ]
           },
           {
            "iteration": 281,
            "learn": [
             0.4007754286,
             0.8169748696
            ],
            "passed_time": 6.336269941,
            "remaining_time": 4.898251231,
            "test": [
             0.4016272061,
             0.8464425879,
             0.809478673
            ]
           },
           {
            "iteration": 282,
            "learn": [
             0.4007264878,
             0.8165007112
            ],
            "passed_time": 6.362919564,
            "remaining_time": 4.878987793,
            "test": [
             0.4015915775,
             0.8464326773,
             0.809478673
            ]
           },
           {
            "iteration": 283,
            "learn": [
             0.4006912319,
             0.8167377904
            ],
            "passed_time": 6.3786476,
            "remaining_time": 4.851365781,
            "test": [
             0.4015714929,
             0.8463831242,
             0.809478673
            ]
           },
           {
            "iteration": 284,
            "learn": [
             0.4005874218,
             0.8169748696
            ],
            "passed_time": 6.400652951,
            "remaining_time": 4.828562753,
            "test": [
             0.401535616,
             0.8463286159,
             0.809478673
            ]
           },
           {
            "iteration": 285,
            "learn": [
             0.4005397127,
             0.8172119488
            ],
            "passed_time": 6.415247061,
            "remaining_time": 4.800219829,
            "test": [
             0.4014855293,
             0.8463335712,
             0.809478673
            ]
           },
           {
            "iteration": 286,
            "learn": [
             0.4004783925,
             0.8169748696
            ],
            "passed_time": 6.452152582,
            "remaining_time": 4.788531359,
            "test": [
             0.4014647343,
             0.8462988841,
             0.809478673
            ]
           },
           {
            "iteration": 287,
            "learn": [
             0.4003428897,
             0.8169748696
            ],
            "passed_time": 6.469942927,
            "remaining_time": 4.762596877,
            "test": [
             0.4014418389,
             0.8463583477,
             0.809478673
            ]
           },
           {
            "iteration": 288,
            "learn": [
             0.4003134942,
             0.8169748696
            ],
            "passed_time": 6.476706278,
            "remaining_time": 4.728667905,
            "test": [
             0.4014091796,
             0.8463831242,
             0.809478673
            ]
           },
           {
            "iteration": 289,
            "learn": [
             0.4001987862,
             0.8169748696
            ],
            "passed_time": 6.489367884,
            "remaining_time": 4.699197434,
            "test": [
             0.4013195185,
             0.8464326773,
             0.8104265403
            ]
           },
           {
            "iteration": 290,
            "learn": [
             0.4000136583,
             0.8167377904
            ],
            "passed_time": 6.515337278,
            "remaining_time": 4.679400313,
            "test": [
             0.4012240373,
             0.8464673644,
             0.8104265403
            ]
           },
           {
            "iteration": 291,
            "learn": [
             0.3998985555,
             0.8167377904
            ],
            "passed_time": 6.541853516,
            "remaining_time": 4.65995045,
            "test": [
             0.4012053049,
             0.8464970962,
             0.8104265403
            ]
           },
           {
            "iteration": 292,
            "learn": [
             0.3997468504,
             0.8167377904
            ],
            "passed_time": 6.570675756,
            "remaining_time": 4.642081507,
            "test": [
             0.4012050689,
             0.8464376326,
             0.809478673
            ]
           },
           {
            "iteration": 293,
            "learn": [
             0.3996160577,
             0.8167377904
            ],
            "passed_time": 6.594844384,
            "remaining_time": 4.620877357,
            "test": [
             0.4011117297,
             0.8464227666,
             0.8104265403
            ]
           },
           {
            "iteration": 294,
            "learn": [
             0.3995661157,
             0.8167377904
            ],
            "passed_time": 6.624383323,
            "remaining_time": 4.603385021,
            "test": [
             0.4010539073,
             0.8464871856,
             0.8104265403
            ]
           },
           {
            "iteration": 295,
            "learn": [
             0.3994262134,
             0.8167377904
            ],
            "passed_time": 6.661271914,
            "remaining_time": 4.59087659,
            "test": [
             0.4010438328,
             0.846363303,
             0.8104265403
            ]
           },
           {
            "iteration": 296,
            "learn": [
             0.3993706504,
             0.8167377904
            ],
            "passed_time": 6.695158545,
            "remaining_time": 4.576152137,
            "test": [
             0.4009889423,
             0.8463880795,
             0.8104265403
            ]
           },
           {
            "iteration": 297,
            "learn": [
             0.3993300713,
             0.8167377904
            ],
            "passed_time": 6.722490569,
            "remaining_time": 4.556856023,
            "test": [
             0.4009900508,
             0.846412856,
             0.8104265403
            ]
           },
           {
            "iteration": 298,
            "learn": [
             0.3992445186,
             0.8165007112
            ],
            "passed_time": 6.753857334,
            "remaining_time": 4.540218475,
            "test": [
             0.4009436067,
             0.8463880795,
             0.8104265403
            ]
           },
           {
            "iteration": 299,
            "learn": [
             0.3990895679,
             0.8172119488
            ],
            "passed_time": 6.783248137,
            "remaining_time": 4.522165425,
            "test": [
             0.4009677593,
             0.8463583477,
             0.8104265403
            ]
           },
           {
            "iteration": 300,
            "learn": [
             0.3990107277,
             0.817449028
            ],
            "passed_time": 6.815585503,
            "remaining_time": 4.5059851,
            "test": [
             0.4009299158,
             0.8463533924,
             0.8113744076
            ]
           },
           {
            "iteration": 301,
            "learn": [
             0.398946857,
             0.8172119488
            ],
            "passed_time": 6.845829142,
            "remaining_time": 4.488325066,
            "test": [
             0.4009059891,
             0.846249331,
             0.8113744076
            ]
           },
           {
            "iteration": 302,
            "learn": [
             0.3988349059,
             0.8169748696
            ],
            "passed_time": 6.879204727,
            "remaining_time": 4.472618255,
            "test": [
             0.400872918,
             0.8462691522,
             0.8113744076
            ]
           },
           {
            "iteration": 303,
            "learn": [
             0.3987491163,
             0.8172119488
            ],
            "passed_time": 6.914409939,
            "remaining_time": 4.457974829,
            "test": [
             0.4008716189,
             0.8462047333,
             0.8113744076
            ]
           },
           {
            "iteration": 304,
            "learn": [
             0.3987081767,
             0.8172119488
            ],
            "passed_time": 6.937976024,
            "remaining_time": 4.435755163,
            "test": [
             0.4008531402,
             0.8462344651,
             0.8113744076
            ]
           },
           {
            "iteration": 305,
            "learn": [
             0.3986441148,
             0.8172119488
            ],
            "passed_time": 6.964709756,
            "remaining_time": 4.415534943,
            "test": [
             0.400831197,
             0.8462542863,
             0.8104265403
            ]
           },
           {
            "iteration": 306,
            "learn": [
             0.3985911857,
             0.8172119488
            ],
            "passed_time": 6.982262718,
            "remaining_time": 4.389500666,
            "test": [
             0.4008200392,
             0.8462542863,
             0.8113744076
            ]
           },
           {
            "iteration": 307,
            "learn": [
             0.3984423979,
             0.8176861072
            ],
            "passed_time": 7.015269924,
            "remaining_time": 4.373155277,
            "test": [
             0.4008035131,
             0.8462741075,
             0.8113744076
            ]
           },
           {
            "iteration": 308,
            "learn": [
             0.3983582721,
             0.8176861072
            ],
            "passed_time": 7.050898724,
            "remaining_time": 4.358322512,
            "test": [
             0.4008094887,
             0.8462641969,
             0.8113744076
            ]
           },
           {
            "iteration": 309,
            "learn": [
             0.3982300437,
             0.8176861072
            ],
            "passed_time": 7.076362143,
            "remaining_time": 4.337125184,
            "test": [
             0.4007463148,
             0.8462790629,
             0.8113744076
            ]
           },
           {
            "iteration": 310,
            "learn": [
             0.3981297029,
             0.8179231863
            ],
            "passed_time": 7.089782167,
            "remaining_time": 4.308581446,
            "test": [
             0.4007335516,
             0.8462741075,
             0.8113744076
            ]
           },
           {
            "iteration": 311,
            "learn": [
             0.3980129619,
             0.8181602655
            ],
            "passed_time": 7.104435745,
            "remaining_time": 4.280877949,
            "test": [
             0.4006775835,
             0.8463038394,
             0.8113744076
            ]
           },
           {
            "iteration": 312,
            "learn": [
             0.3978699811,
             0.8181602655
            ],
            "passed_time": 7.139425083,
            "remaining_time": 4.265407318,
            "test": [
             0.400666287,
             0.8462741075,
             0.8113744076
            ]
           },
           {
            "iteration": 313,
            "learn": [
             0.3977586288,
             0.8179231863
            ],
            "passed_time": 7.173117189,
            "remaining_time": 4.24904394,
            "test": [
             0.4005888528,
             0.8462988841,
             0.8113744076
            ]
           },
           {
            "iteration": 314,
            "learn": [
             0.3976322311,
             0.8181602655
            ],
            "passed_time": 7.19615311,
            "remaining_time": 4.226312144,
            "test": [
             0.4005406402,
             0.8463187053,
             0.8113744076
            ]
           },
           {
            "iteration": 315,
            "learn": [
             0.3975551205,
             0.8179231863
            ],
            "passed_time": 7.221056835,
            "remaining_time": 4.204666005,
            "test": [
             0.4005302273,
             0.8463087947,
             0.8113744076
            ]
           },
           {
            "iteration": 316,
            "learn": [
             0.3974002752,
             0.8179231863
            ],
            "passed_time": 7.251681712,
            "remaining_time": 4.186302061,
            "test": [
             0.400461057,
             0.8462988841,
             0.8113744076
            ]
           },
           {
            "iteration": 317,
            "learn": [
             0.3973035413,
             0.8179231863
            ],
            "passed_time": 7.285819165,
            "remaining_time": 4.169871346,
            "test": [
             0.4004532215,
             0.8462790629,
             0.8113744076
            ]
           },
           {
            "iteration": 318,
            "learn": [
             0.397239103,
             0.8181602655
            ],
            "passed_time": 7.314284065,
            "remaining_time": 4.150111021,
            "test": [
             0.4004224678,
             0.8463187053,
             0.8113744076
            ]
           },
           {
            "iteration": 319,
            "learn": [
             0.3971635076,
             0.8176861072
            ],
            "passed_time": 7.340938439,
            "remaining_time": 4.129277872,
            "test": [
             0.4004039789,
             0.8462394204,
             0.8113744076
            ]
           },
           {
            "iteration": 320,
            "learn": [
             0.3971001215,
             0.8176861072
            ],
            "passed_time": 7.356435372,
            "remaining_time": 4.102186703,
            "test": [
             0.4003783996,
             0.846249331,
             0.8123222749
            ]
           },
           {
            "iteration": 321,
            "learn": [
             0.3969846937,
             0.8172119488
            ],
            "passed_time": 7.369353071,
            "remaining_time": 4.07374176,
            "test": [
             0.4003646713,
             0.8462096886,
             0.8123222749
            ]
           },
           {
            "iteration": 322,
            "learn": [
             0.3969048927,
             0.8172119488
            ],
            "passed_time": 7.393967025,
            "remaining_time": 4.051802363,
            "test": [
             0.4003444581,
             0.8462939288,
             0.8123222749
            ]
           },
           {
            "iteration": 323,
            "learn": [
             0.396777034,
             0.817449028
            ],
            "passed_time": 7.419155951,
            "remaining_time": 4.030158788,
            "test": [
             0.400316217,
             0.8462295098,
             0.8123222749
            ]
           },
           {
            "iteration": 324,
            "learn": [
             0.3967076912,
             0.8172119488
            ],
            "passed_time": 7.453838358,
            "remaining_time": 4.01360527,
            "test": [
             0.4002850918,
             0.8462394204,
             0.8123222749
            ]
           },
           {
            "iteration": 325,
            "learn": [
             0.3965750441,
             0.8172119488
            ],
            "passed_time": 7.471151697,
            "remaining_time": 3.987669924,
            "test": [
             0.400313891,
             0.846249331,
             0.8123222749
            ]
           },
           {
            "iteration": 326,
            "learn": [
             0.3963977978,
             0.8176861072
            ],
            "passed_time": 7.48698251,
            "remaining_time": 3.96100298,
            "test": [
             0.4002557597,
             0.8462295098,
             0.8123222749
            ]
           },
           {
            "iteration": 327,
            "learn": [
             0.3962621779,
             0.8176861072
            ],
            "passed_time": 7.500443583,
            "remaining_time": 3.93315944,
            "test": [
             0.4002371587,
             0.8462096886,
             0.8123222749
            ]
           },
           {
            "iteration": 328,
            "learn": [
             0.3962410917,
             0.8176861072
            ],
            "passed_time": 7.506577753,
            "remaining_time": 3.901595124,
            "test": [
             0.4002090037,
             0.8462443757,
             0.8123222749
            ]
           },
           {
            "iteration": 329,
            "learn": [
             0.396206207,
             0.8176861072
            ],
            "passed_time": 7.522807584,
            "remaining_time": 3.875385725,
            "test": [
             0.4002022772,
             0.8462394204,
             0.8123222749
            ]
           },
           {
            "iteration": 330,
            "learn": [
             0.3961395034,
             0.8179231863
            ],
            "passed_time": 7.536605677,
            "remaining_time": 3.847995044,
            "test": [
             0.400207245,
             0.8462840182,
             0.8123222749
            ]
           },
           {
            "iteration": 331,
            "learn": [
             0.3960221972,
             0.8176861072
            ],
            "passed_time": 7.548998661,
            "remaining_time": 3.819975226,
            "test": [
             0.4001792028,
             0.8462889735,
             0.8123222749
            ]
           },
           {
            "iteration": 332,
            "learn": [
             0.3959293219,
             0.8181602655
            ],
            "passed_time": 7.565137165,
            "remaining_time": 3.793927647,
            "test": [
             0.4001308611,
             0.8462889735,
             0.8123222749
            ]
           },
           {
            "iteration": 333,
            "learn": [
             0.3959249773,
             0.8181602655
            ],
            "passed_time": 7.569130647,
            "remaining_time": 3.761903256,
            "test": [
             0.400120268,
             0.8462790629,
             0.8123222749
            ]
           },
           {
            "iteration": 334,
            "learn": [
             0.395828502,
             0.8179231863
            ],
            "passed_time": 7.585228033,
            "remaining_time": 3.736007837,
            "test": [
             0.4001230963,
             0.8462641969,
             0.8123222749
            ]
           },
           {
            "iteration": 335,
            "learn": [
             0.3958260318,
             0.8179231863
            ],
            "passed_time": 7.594320844,
            "remaining_time": 3.706751841,
            "test": [
             0.4001148186,
             0.8462443757,
             0.8123222749
            ]
           },
           {
            "iteration": 336,
            "learn": [
             0.3956723819,
             0.8179231863
            ],
            "passed_time": 7.624768836,
            "remaining_time": 3.687944571,
            "test": [
             0.4001434617,
             0.8462245545,
             0.8123222749
            ]
           },
           {
            "iteration": 337,
            "learn": [
             0.3955739459,
             0.8176861072
            ],
            "passed_time": 7.658255488,
            "remaining_time": 3.67052482,
            "test": [
             0.4001958159,
             0.846150225,
             0.8123222749
            ]
           },
           {
            "iteration": 338,
            "learn": [
             0.3954120712,
             0.8179231863
            ],
            "passed_time": 7.695363154,
            "remaining_time": 3.654729993,
            "test": [
             0.4002184661,
             0.8460957166,
             0.8123222749
            ]
           },
           {
            "iteration": 339,
            "learn": [
             0.3953485264,
             0.8179231863
            ],
            "passed_time": 7.719927399,
            "remaining_time": 3.632907011,
            "test": [
             0.4002091288,
             0.8460808507,
             0.8123222749
            ]
           },
           {
            "iteration": 340,
            "learn": [
             0.3953113626,
             0.8181602655
            ],
            "passed_time": 7.731200607,
            "remaining_time": 3.604870664,
            "test": [
             0.4001868562,
             0.846085806,
             0.8123222749
            ]
           },
           {
            "iteration": 341,
            "learn": [
             0.3952191969,
             0.8181602655
            ],
            "passed_time": 7.750274754,
            "remaining_time": 3.58053629,
            "test": [
             0.4001604826,
             0.8460511189,
             0.8123222749
            ]
           },
           {
            "iteration": 342,
            "learn": [
             0.3951569313,
             0.8181602655
            ],
            "passed_time": 7.76465587,
            "remaining_time": 3.554084465,
            "test": [
             0.4001308411,
             0.8461254485,
             0.8123222749
            ]
           },
           {
            "iteration": 343,
            "learn": [
             0.3950532465,
             0.8181602655
            ],
            "passed_time": 7.775608396,
            "remaining_time": 3.526147994,
            "test": [
             0.4000673964,
             0.8461551803,
             0.8113744076
            ]
           },
           {
            "iteration": 344,
            "learn": [
             0.3949269379,
             0.8183973447
            ],
            "passed_time": 7.795392063,
            "remaining_time": 3.502277593,
            "test": [
             0.4000806791,
             0.8461452697,
             0.8113744076
            ]
           },
           {
            "iteration": 345,
            "learn": [
             0.3948926325,
             0.8186344239
            ],
            "passed_time": 7.819922939,
            "remaining_time": 3.480543736,
            "test": [
             0.4000764696,
             0.846150225,
             0.8113744076
            ]
           },
           {
            "iteration": 346,
            "learn": [
             0.3948169517,
             0.8186344239
            ],
            "passed_time": 7.851860437,
            "remaining_time": 3.462059501,
            "test": [
             0.4000805894,
             0.8460412083,
             0.8113744076
            ]
           },
           {
            "iteration": 347,
            "learn": [
             0.3946842918,
             0.8186344239
            ],
            "passed_time": 7.88160174,
            "remaining_time": 3.442538691,
            "test": [
             0.4000258391,
             0.8460808507,
             0.8113744076
            ]
           },
           {
            "iteration": 348,
            "learn": [
             0.3946406158,
             0.8188715031
            ],
            "passed_time": 7.893891937,
            "remaining_time": 3.415408833,
            "test": [
             0.4000340359,
             0.8461006719,
             0.8113744076
            ]
           },
           {
            "iteration": 349,
            "learn": [
             0.3944773953,
             0.8188715031
            ],
            "passed_time": 7.907667121,
            "remaining_time": 3.389000195,
            "test": [
             0.4000174908,
             0.8460164318,
             0.8113744076
            ]
           },
           {
            "iteration": 350,
            "learn": [
             0.3944652957,
             0.8186344239
            ],
            "passed_time": 7.912194297,
            "remaining_time": 3.35873775,
            "test": [
             0.4000109034,
             0.8460312977,
             0.8113744076
            ]
           },
           {
            "iteration": 351,
            "learn": [
             0.3943562753,
             0.8186344239
            ],
            "passed_time": 7.942907271,
            "remaining_time": 3.339631466,
            "test": [
             0.3999649122,
             0.8460337753,
             0.8113744076
            ]
           },
           {
            "iteration": 352,
            "learn": [
             0.394293583,
             0.8188715031
            ],
            "passed_time": 7.984347739,
            "remaining_time": 3.324926679,
            "test": [
             0.3999542254,
             0.8460189094,
             0.8113744076
            ]
           },
           {
            "iteration": 353,
            "learn": [
             0.3942798782,
             0.8188715031
            ],
            "passed_time": 7.993481609,
            "remaining_time": 3.296746652,
            "test": [
             0.3999445448,
             0.8460139541,
             0.8113744076
            ]
           },
           {
            "iteration": 354,
            "learn": [
             0.3942065441,
             0.8188715031
            ],
            "passed_time": 8.024567743,
            "remaining_time": 3.277640346,
            "test": [
             0.3999302076,
             0.846043686,
             0.8113744076
            ]
           },
           {
            "iteration": 355,
            "learn": [
             0.3941517632,
             0.8183973447
            ],
            "passed_time": 8.05347741,
            "remaining_time": 3.257586368,
            "test": [
             0.3999279917,
             0.8459842223,
             0.8113744076
            ]
           },
           {
            "iteration": 356,
            "learn": [
             0.3940423535,
             0.8183973447
            ],
            "passed_time": 8.090899466,
            "remaining_time": 3.240892503,
            "test": [
             0.3999044073,
             0.8460089988,
             0.8123222749
            ]
           },
           {
            "iteration": 357,
            "learn": [
             0.3940040985,
             0.8188715031
            ],
            "passed_time": 8.120721616,
            "remaining_time": 3.221068351,
            "test": [
             0.399889886,
             0.845979267,
             0.8123222749
            ]
           },
           {
            "iteration": 358,
            "learn": [
             0.3939903509,
             0.8183973447
            ],
            "passed_time": 8.141221122,
            "remaining_time": 3.197526959,
            "test": [
             0.3998858855,
             0.845979267,
             0.8123222749
            ]
           },
           {
            "iteration": 359,
            "learn": [
             0.3939539241,
             0.8188715031
            ],
            "passed_time": 8.171251506,
            "remaining_time": 3.177708919,
            "test": [
             0.3998878516,
             0.8459891776,
             0.8123222749
            ]
           },
           {
            "iteration": 360,
            "learn": [
             0.3939075978,
             0.8191085823
            ],
            "passed_time": 8.192961866,
            "remaining_time": 3.154630746,
            "test": [
             0.3998469632,
             0.8460238647,
             0.8123222749
            ]
           },
           {
            "iteration": 361,
            "learn": [
             0.3938527393,
             0.8191085823
            ],
            "passed_time": 8.224612692,
            "remaining_time": 3.13534959,
            "test": [
             0.3998277076,
             0.8460684625,
             0.8123222749
            ]
           },
           {
            "iteration": 362,
            "learn": [
             0.3937203674,
             0.8188715031
            ],
            "passed_time": 8.237485033,
            "remaining_time": 3.108913084,
            "test": [
             0.3997480536,
             0.8461328814,
             0.8123222749
            ]
           },
           {
            "iteration": 363,
            "learn": [
             0.3937072652,
             0.8191085823
            ],
            "passed_time": 8.242097997,
            "remaining_time": 3.079465186,
            "test": [
             0.3997392865,
             0.8460833284,
             0.8123222749
            ]
           },
           {
            "iteration": 364,
            "learn": [
             0.3936604566,
             0.8191085823
            ],
            "passed_time": 8.274260958,
            "remaining_time": 3.060343094,
            "test": [
             0.3997170687,
             0.8461229708,
             0.8123222749
            ]
           },
           {
            "iteration": 365,
            "learn": [
             0.3935323937,
             0.8193456615
            ],
            "passed_time": 8.306722891,
            "remaining_time": 3.041259201,
            "test": [
             0.3996682719,
             0.8461725238,
             0.8123222749
            ]
           },
           {
            "iteration": 366,
            "learn": [
             0.3934160661,
             0.8191085823
            ],
            "passed_time": 8.333580139,
            "remaining_time": 3.020071276,
            "test": [
             0.3996727033,
             0.8461180155,
             0.8123222749
            ]
           },
           {
            "iteration": 367,
            "learn": [
             0.3933725799,
             0.8195827406
            ],
            "passed_time": 8.378150024,
            "remaining_time": 3.005205987,
            "test": [
             0.3996729703,
             0.846142792,
             0.8123222749
            ]
           },
           {
            "iteration": 368,
            "learn": [
             0.393154996,
             0.820056899
            ],
            "passed_time": 8.40746273,
            "remaining_time": 2.984763191,
            "test": [
             0.399725991,
             0.8460734178,
             0.8123222749
            ]
           },
           {
            "iteration": 369,
            "learn": [
             0.3931493461,
             0.8198198198
            ],
            "passed_time": 8.435450474,
            "remaining_time": 2.963806923,
            "test": [
             0.3997191052,
             0.8460635072,
             0.8123222749
            ]
           },
           {
            "iteration": 370,
            "learn": [
             0.3930220292,
             0.820056899
            ],
            "passed_time": 8.461597113,
            "remaining_time": 2.942172581,
            "test": [
             0.3996999499,
             0.8461229708,
             0.8123222749
            ]
           },
           {
            "iteration": 371,
            "learn": [
             0.3929242793,
             0.8193456615
            ],
            "passed_time": 8.492323367,
            "remaining_time": 2.922089761,
            "test": [
             0.3997260397,
             0.8460981943,
             0.8123222749
            ]
           },
           {
            "iteration": 372,
            "learn": [
             0.3928759994,
             0.8191085823
            ],
            "passed_time": 8.510739264,
            "remaining_time": 2.897758409,
            "test": [
             0.3997156193,
             0.8460833284,
             0.8123222749
            ]
           },
           {
            "iteration": 373,
            "learn": [
             0.3927326103,
             0.8193456615
            ],
            "passed_time": 8.538244012,
            "remaining_time": 2.87652071,
            "test": [
             0.3996803859,
             0.8461229708,
             0.8123222749
            ]
           },
           {
            "iteration": 374,
            "learn": [
             0.3926016279,
             0.820056899
            ],
            "passed_time": 8.568883898,
            "remaining_time": 2.856294633,
            "test": [
             0.3996238143,
             0.8461873897,
             0.8123222749
            ]
           },
           {
            "iteration": 375,
            "learn": [
             0.3925903428,
             0.8202939782
            ],
            "passed_time": 8.578705119,
            "remaining_time": 2.829147433,
            "test": [
             0.3996142271,
             0.846207211,
             0.8123222749
            ]
           },
           {
            "iteration": 376,
            "learn": [
             0.3924802202,
             0.8202939782
            ],
            "passed_time": 8.608146301,
            "remaining_time": 2.808493355,
            "test": [
             0.3995861478,
             0.8461675685,
             0.8123222749
            ]
           },
           {
            "iteration": 377,
            "learn": [
             0.39229547,
             0.8202939782
            ],
            "passed_time": 8.637691469,
            "remaining_time": 2.787826347,
            "test": [
             0.3995529516,
             0.8461229708,
             0.8123222749
            ]
           },
           {
            "iteration": 378,
            "learn": [
             0.3921790571,
             0.8210052157
            ],
            "passed_time": 8.66545693,
            "remaining_time": 2.766544297,
            "test": [
             0.399539882,
             0.8462171216,
             0.8123222749
            ]
           },
           {
            "iteration": 379,
            "learn": [
             0.3921435983,
             0.8210052157
            ],
            "passed_time": 8.694120965,
            "remaining_time": 2.745511884,
            "test": [
             0.3995160494,
             0.8462220769,
             0.8123222749
            ]
           },
           {
            "iteration": 380,
            "learn": [
             0.3921086661,
             0.8207681366
            ],
            "passed_time": 8.727343835,
            "remaining_time": 2.725863297,
            "test": [
             0.3995150432,
             0.8461873897,
             0.8123222749
            ]
           },
           {
            "iteration": 381,
            "learn": [
             0.3920415306,
             0.8205310574
            ],
            "passed_time": 8.752023517,
            "remaining_time": 2.703504647,
            "test": [
             0.3995274951,
             0.8461576579,
             0.8123222749
            ]
           },
           {
            "iteration": 382,
            "learn": [
             0.3919907175,
             0.8207681366
            ],
            "passed_time": 8.779571545,
            "remaining_time": 2.682010106,
            "test": [
             0.3995132434,
             0.8461601356,
             0.8123222749
            ]
           },
           {
            "iteration": 383,
            "learn": [
             0.3919266145,
             0.8205310574
            ],
            "passed_time": 8.814727808,
            "remaining_time": 2.662782359,
            "test": [
             0.3995091882,
             0.8461750015,
             0.8123222749
            ]
           },
           {
            "iteration": 384,
            "learn": [
             0.3918408498,
             0.8210052157
            ],
            "passed_time": 8.843168579,
            "remaining_time": 2.641465939,
            "test": [
             0.39949346,
             0.8462641969,
             0.8123222749
            ]
           },
           {
            "iteration": 385,
            "learn": [
             0.3917172224,
             0.8212422949
            ],
            "passed_time": 8.870185672,
            "remaining_time": 2.619692141,
            "test": [
             0.3994942327,
             0.8462641969,
             0.8123222749
            ]
           },
           {
            "iteration": 386,
            "learn": [
             0.3915996745,
             0.8210052157
            ],
            "passed_time": 8.897276763,
            "remaining_time": 2.597912853,
            "test": [
             0.3995204442,
             0.846199778,
             0.8123222749
            ]
           },
           {
            "iteration": 387,
            "learn": [
             0.3915405916,
             0.8212422949
            ],
            "passed_time": 8.921064911,
            "remaining_time": 2.575152758,
            "test": [
             0.3995078644,
             0.8461898674,
             0.8123222749
            ]
           },
           {
            "iteration": 388,
            "learn": [
             0.3914288885,
             0.8217164533
            ],
            "passed_time": 8.946381164,
            "remaining_time": 2.552823417,
            "test": [
             0.3995556388,
             0.8461155378,
             0.8123222749
            ]
           },
           {
            "iteration": 389,
            "learn": [
             0.3913380751,
             0.8210052157
            ],
            "passed_time": 8.958651642,
            "remaining_time": 2.526799181,
            "test": [
             0.3995199089,
             0.8461006719,
             0.8123222749
            ]
           },
           {
            "iteration": 390,
            "learn": [
             0.3912004113,
             0.8212422949
            ],
            "passed_time": 8.971754886,
            "remaining_time": 2.501077449,
            "test": [
             0.3995441384,
             0.8460461636,
             0.8113744076
            ]
           },
           {
            "iteration": 391,
            "learn": [
             0.391136484,
             0.8210052157
            ],
            "passed_time": 8.985749843,
            "remaining_time": 2.475665773,
            "test": [
             0.3995714687,
             0.8460511189,
             0.8113744076
            ]
           },
           {
            "iteration": 392,
            "learn": [
             0.3910558808,
             0.8214793741
            ],
            "passed_time": 9.003171569,
            "remaining_time": 2.451245186,
            "test": [
             0.3995249013,
             0.8460610295,
             0.8113744076
            ]
           },
           {
            "iteration": 393,
            "learn": [
             0.3910113024,
             0.8212422949
            ],
            "passed_time": 9.019488878,
            "remaining_time": 2.426562998,
            "test": [
             0.3995239769,
             0.8460808507,
             0.8113744076
            ]
           },
           {
            "iteration": 394,
            "learn": [
             0.3910051437,
             0.8212422949
            ],
            "passed_time": 9.029006957,
            "remaining_time": 2.400115773,
            "test": [
             0.3995201689,
             0.8460758954,
             0.8123222749
            ]
           },
           {
            "iteration": 395,
            "learn": [
             0.3908922225,
             0.8214793741
            ],
            "passed_time": 9.055907504,
            "remaining_time": 2.378319142,
            "test": [
             0.3995062289,
             0.846036253,
             0.8123222749
            ]
           },
           {
            "iteration": 396,
            "learn": [
             0.3908336735,
             0.8212422949
            ],
            "passed_time": 9.076008891,
            "remaining_time": 2.354732785,
            "test": [
             0.3994825731,
             0.8460808507,
             0.8113744076
            ]
           },
           {
            "iteration": 397,
            "learn": [
             0.3907979431,
             0.8212422949
            ],
            "passed_time": 9.103222508,
            "remaining_time": 2.332986673,
            "test": [
             0.399483297,
             0.846085806,
             0.8113744076
            ]
           },
           {
            "iteration": 398,
            "learn": [
             0.3907975833,
             0.8212422949
            ],
            "passed_time": 9.11231222,
            "remaining_time": 2.306625399,
            "test": [
             0.399482944,
             0.846085806,
             0.8113744076
            ]
           },
           {
            "iteration": 399,
            "learn": [
             0.3907757181,
             0.8212422949
            ],
            "passed_time": 9.141502519,
            "remaining_time": 2.28537563,
            "test": [
             0.3994877388,
             0.846085806,
             0.8113744076
            ]
           },
           {
            "iteration": 400,
            "learn": [
             0.390673175,
             0.8212422949
            ],
            "passed_time": 9.179997913,
            "remaining_time": 2.266383525,
            "test": [
             0.3994684101,
             0.8461403144,
             0.8104265403
            ]
           },
           {
            "iteration": 401,
            "learn": [
             0.3905596075,
             0.8210052157
            ],
            "passed_time": 9.226506611,
            "remaining_time": 2.24924788,
            "test": [
             0.3994669615,
             0.8461551803,
             0.8104265403
            ]
           },
           {
            "iteration": 402,
            "learn": [
             0.3905010168,
             0.8210052157
            ],
            "passed_time": 9.278571316,
            "remaining_time": 2.233303766,
            "test": [
             0.3994298517,
             0.846199778,
             0.8104265403
            ]
           },
           {
            "iteration": 403,
            "learn": [
             0.3904730988,
             0.8212422949
            ],
            "passed_time": 9.308861492,
            "remaining_time": 2.212006691,
            "test": [
             0.3994281455,
             0.8461551803,
             0.8104265403
            ]
           },
           {
            "iteration": 404,
            "learn": [
             0.3904234364,
             0.8210052157
            ],
            "passed_time": 9.328244891,
            "remaining_time": 2.188106826,
            "test": [
             0.399438453,
             0.8461700462,
             0.8113744076
            ]
           },
           {
            "iteration": 405,
            "learn": [
             0.39037789,
             0.8210052157
            ],
            "passed_time": 9.341655055,
            "remaining_time": 2.162846244,
            "test": [
             0.3994417092,
             0.8460957166,
             0.8113744076
            ]
           },
           {
            "iteration": 406,
            "learn": [
             0.3902964443,
             0.8212422949
            ],
            "passed_time": 9.354064289,
            "remaining_time": 2.137415182,
            "test": [
             0.3994359622,
             0.8460957166,
             0.8113744076
            ]
           },
           {
            "iteration": 407,
            "learn": [
             0.3902129527,
             0.8212422949
            ],
            "passed_time": 9.368193293,
            "remaining_time": 2.112435742,
            "test": [
             0.399405415,
             0.8461155378,
             0.8113744076
            ]
           },
           {
            "iteration": 408,
            "learn": [
             0.3901971309,
             0.8212422949
            ],
            "passed_time": 9.375264074,
            "remaining_time": 2.085938951,
            "test": [
             0.399408211,
             0.8461105825,
             0.8113744076
            ]
           },
           {
            "iteration": 409,
            "learn": [
             0.3901796688,
             0.8212422949
            ],
            "passed_time": 9.383435813,
            "remaining_time": 2.059778593,
            "test": [
             0.3994055079,
             0.8461155378,
             0.8113744076
            ]
           },
           {
            "iteration": 410,
            "learn": [
             0.3899916557,
             0.8212422949
            ],
            "passed_time": 9.398051682,
            "remaining_time": 2.035101216,
            "test": [
             0.3993371861,
             0.8462394204,
             0.8113744076
            ]
           },
           {
            "iteration": 411,
            "learn": [
             0.389945415,
             0.8217164533
            ],
            "passed_time": 9.427311829,
            "remaining_time": 2.013600585,
            "test": [
             0.3992880931,
             0.8462691522,
             0.8113744076
            ]
           },
           {
            "iteration": 412,
            "learn": [
             0.3899014396,
             0.8217164533
            ],
            "passed_time": 9.457598466,
            "remaining_time": 1.992278612,
            "test": [
             0.3992941112,
             0.8462096886,
             0.8113744076
            ]
           },
           {
            "iteration": 413,
            "learn": [
             0.3897823834,
             0.8214793741
            ],
            "passed_time": 9.471663911,
            "remaining_time": 1.967543711,
            "test": [
             0.3993001667,
             0.8462542863,
             0.8113744076
            ]
           },
           {
            "iteration": 414,
            "learn": [
             0.389772227,
             0.8214793741
            ],
            "passed_time": 9.476986265,
            "remaining_time": 1.941069476,
            "test": [
             0.3993070166,
             0.8462641969,
             0.8113744076
            ]
           },
           {
            "iteration": 415,
            "learn": [
             0.3897706452,
             0.8214793741
            ],
            "passed_time": 9.492159677,
            "remaining_time": 1.916686089,
            "test": [
             0.3993071292,
             0.8462641969,
             0.8113744076
            ]
           },
           {
            "iteration": 416,
            "learn": [
             0.3896992275,
             0.8217164533
            ],
            "passed_time": 9.523854932,
            "remaining_time": 1.895635394,
            "test": [
             0.3992995372,
             0.8462394204,
             0.8113744076
            ]
           },
           {
            "iteration": 417,
            "learn": [
             0.3896233015,
             0.8214793741
            ],
            "passed_time": 9.550845956,
            "remaining_time": 1.873610929,
            "test": [
             0.3992840625,
             0.8462394204,
             0.8113744076
            ]
           },
           {
            "iteration": 418,
            "learn": [
             0.389485463,
             0.8217164533
            ],
            "passed_time": 9.576672015,
            "remaining_time": 1.851337549,
            "test": [
             0.3992520703,
             0.846249331,
             0.8113744076
            ]
           },
           {
            "iteration": 419,
            "learn": [
             0.3894594319,
             0.8217164533
            ],
            "passed_time": 9.611094719,
            "remaining_time": 1.830684708,
            "test": [
             0.3992489404,
             0.8462344651,
             0.8113744076
            ]
           },
           {
            "iteration": 420,
            "learn": [
             0.3893999906,
             0.8217164533
            ],
            "passed_time": 9.635257047,
            "remaining_time": 1.808041109,
            "test": [
             0.3992741967,
             0.8462542863,
             0.8113744076
            ]
           },
           {
            "iteration": 421,
            "learn": [
             0.389366237,
             0.8217164533
            ],
            "passed_time": 9.646647811,
            "remaining_time": 1.78302969,
            "test": [
             0.3992448008,
             0.8462542863,
             0.8113744076
            ]
           },
           {
            "iteration": 422,
            "learn": [
             0.3893460347,
             0.8217164533
            ],
            "passed_time": 9.674901628,
            "remaining_time": 1.761152306,
            "test": [
             0.3992460448,
             0.8462641969,
             0.8113744076
            ]
           },
           {
            "iteration": 423,
            "learn": [
             0.3892306673,
             0.8214793741
            ],
            "passed_time": 9.70840701,
            "remaining_time": 1.740186162,
            "test": [
             0.3992362743,
             0.846249331,
             0.8113744076
            ]
           },
           {
            "iteration": 424,
            "learn": [
             0.3892130594,
             0.8214793741
            ],
            "passed_time": 9.739141893,
            "remaining_time": 1.718672099,
            "test": [
             0.3992260491,
             0.8462592416,
             0.8113744076
            ]
           },
           {
            "iteration": 425,
            "learn": [
             0.3891636234,
             0.8214793741
            ],
            "passed_time": 9.774365494,
            "remaining_time": 1.697894475,
            "test": [
             0.3992218755,
             0.8463038394,
             0.8113744076
            ]
           },
           {
            "iteration": 426,
            "learn": [
             0.3891304122,
             0.8214793741
            ],
            "passed_time": 9.809640863,
            "remaining_time": 1.67705804,
            "test": [
             0.3992357852,
             0.8462542863,
             0.8113744076
            ]
           },
           {
            "iteration": 427,
            "learn": [
             0.3891148212,
             0.8212422949
            ],
            "passed_time": 9.843230943,
            "remaining_time": 1.655870626,
            "test": [
             0.3992316635,
             0.8462542863,
             0.8113744076
            ]
           },
           {
            "iteration": 428,
            "learn": [
             0.3890956359,
             0.8212422949
            ],
            "passed_time": 9.873779302,
            "remaining_time": 1.634121982,
            "test": [
             0.3992342944,
             0.846249331,
             0.8113744076
            ]
           },
           {
            "iteration": 429,
            "learn": [
             0.3890010839,
             0.8214793741
            ],
            "passed_time": 9.904621742,
            "remaining_time": 1.612380284,
            "test": [
             0.3992080135,
             0.8462741075,
             0.8113744076
            ]
           },
           {
            "iteration": 430,
            "learn": [
             0.3889575541,
             0.8214793741
            ],
            "passed_time": 9.939445105,
            "remaining_time": 1.591233671,
            "test": [
             0.3991985161,
             0.8463087947,
             0.8113744076
            ]
           },
           {
            "iteration": 431,
            "learn": [
             0.3888848079,
             0.8217164533
            ],
            "passed_time": 9.976501642,
            "remaining_time": 1.570375258,
            "test": [
             0.3991782748,
             0.846363303,
             0.8113744076
            ]
           },
           {
            "iteration": 432,
            "learn": [
             0.3888848077,
             0.8217164533
            ],
            "passed_time": 9.979583911,
            "remaining_time": 1.544185039,
            "test": [
             0.3991783368,
             0.846363303,
             0.8113744076
            ]
           },
           {
            "iteration": 433,
            "learn": [
             0.3887832823,
             0.8212422949
            ],
            "passed_time": 10.00915258,
            "remaining_time": 1.522129194,
            "test": [
             0.3991903799,
             0.8462939288,
             0.8113744076
            ]
           },
           {
            "iteration": 434,
            "learn": [
             0.3887161087,
             0.8212422949
            ],
            "passed_time": 10.03673397,
            "remaining_time": 1.499741857,
            "test": [
             0.3991438912,
             0.8463187053,
             0.8113744076
            ]
           },
           {
            "iteration": 435,
            "learn": [
             0.3886974141,
             0.8214793741
            ],
            "passed_time": 10.06672069,
            "remaining_time": 1.477683771,
            "test": [
             0.3991483388,
             0.84631375,
             0.8113744076
            ]
           },
           {
            "iteration": 436,
            "learn": [
             0.3886288325,
             0.8210052157
            ],
            "passed_time": 10.09834479,
            "remaining_time": 1.45582545,
            "test": [
             0.3991233515,
             0.8463533924,
             0.8113744076
            ]
           },
           {
            "iteration": 437,
            "learn": [
             0.3886193626,
             0.8212422949
            ],
            "passed_time": 10.10389686,
            "remaining_time": 1.430231976,
            "test": [
             0.3991166492,
             0.8463781689,
             0.8113744076
            ]
           },
           {
            "iteration": 438,
            "learn": [
             0.3885861329,
             0.8212422949
            ],
            "passed_time": 10.11653902,
            "remaining_time": 1.405714989,
            "test": [
             0.3991213443,
             0.8463583477,
             0.8113744076
            ]
           },
           {
            "iteration": 439,
            "learn": [
             0.3885509567,
             0.8210052157
            ],
            "passed_time": 10.13125247,
            "remaining_time": 1.381534427,
            "test": [
             0.399119428,
             0.8463335712,
             0.8113744076
            ]
           },
           {
            "iteration": 440,
            "learn": [
             0.3885045521,
             0.8210052157
            ],
            "passed_time": 10.14561447,
            "remaining_time": 1.357349782,
            "test": [
             0.3990990292,
             0.8463038394,
             0.8113744076
            ]
           },
           {
            "iteration": 441,
            "learn": [
             0.3884769419,
             0.8210052157
            ],
            "passed_time": 10.15930429,
            "remaining_time": 1.333121378,
            "test": [
             0.3990960986,
             0.8463236606,
             0.8113744076
            ]
           },
           {
            "iteration": 442,
            "learn": [
             0.3884507697,
             0.8210052157
            ],
            "passed_time": 10.17722666,
            "remaining_time": 1.309485146,
            "test": [
             0.3991037343,
             0.8462840182,
             0.8113744076
            ]
           },
           {
            "iteration": 443,
            "learn": [
             0.3884463966,
             0.8210052157
            ],
            "passed_time": 10.18599478,
            "remaining_time": 1.284720063,
            "test": [
             0.399104236,
             0.8462889735,
             0.8113744076
            ]
           },
           {
            "iteration": 444,
            "learn": [
             0.3883740539,
             0.8207681366
            ],
            "passed_time": 10.21282554,
            "remaining_time": 1.262259337,
            "test": [
             0.399075304,
             0.8462889735,
             0.8113744076
            ]
           },
           {
            "iteration": 445,
            "learn": [
             0.3883531818,
             0.8207681366
            ],
            "passed_time": 10.24848601,
            "remaining_time": 1.240848082,
            "test": [
             0.3990724702,
             0.8462988841,
             0.8113744076
            ]
           },
           {
            "iteration": 446,
            "learn": [
             0.3883386679,
             0.8210052157
            ],
            "passed_time": 10.28572985,
            "remaining_time": 1.21956081,
            "test": [
             0.3990667553,
             0.8462840182,
             0.8113744076
            ]
           },
           {
            "iteration": 447,
            "learn": [
             0.3883335021,
             0.8210052157
            ],
            "passed_time": 10.31612585,
            "remaining_time": 1.197407464,
            "test": [
             0.3990775995,
             0.8462939288,
             0.8113744076
            ]
           },
           {
            "iteration": 448,
            "learn": [
             0.3883065256,
             0.8207681366
            ],
            "passed_time": 10.3454787,
            "remaining_time": 1.175098917,
            "test": [
             0.3990508698,
             0.8463385265,
             0.8113744076
            ]
           },
           {
            "iteration": 449,
            "learn": [
             0.3882796002,
             0.8207681366
            ],
            "passed_time": 10.37621055,
            "remaining_time": 1.152912284,
            "test": [
             0.3990692484,
             0.8463286159,
             0.8113744076
            ]
           },
           {
            "iteration": 450,
            "learn": [
             0.388272271,
             0.8207681366
            ],
            "passed_time": 10.39216273,
            "remaining_time": 1.129081982,
            "test": [
             0.399069342,
             0.8463286159,
             0.8113744076
            ]
           },
           {
            "iteration": 451,
            "learn": [
             0.3882443525,
             0.8210052157
            ],
            "passed_time": 10.41989985,
            "remaining_time": 1.106538038,
            "test": [
             0.3990847804,
             0.8463236606,
             0.8113744076
            ]
           },
           {
            "iteration": 452,
            "learn": [
             0.3881970478,
             0.8212422949
            ],
            "passed_time": 10.44928375,
            "remaining_time": 1.084142022,
            "test": [
             0.3990799667,
             0.8463087947,
             0.8113744076
            ]
           },
           {
            "iteration": 453,
            "learn": [
             0.3881699018,
             0.8212422949
            ],
            "passed_time": 10.47768348,
            "remaining_time": 1.061615507,
            "test": [
             0.3990754363,
             0.84631375,
             0.8113744076
            ]
           },
           {
            "iteration": 454,
            "learn": [
             0.3881449862,
             0.8212422949
            ],
            "passed_time": 10.51481314,
            "remaining_time": 1.039926575,
            "test": [
             0.3990670318,
             0.8463038394,
             0.8113744076
            ]
           },
           {
            "iteration": 455,
            "learn": [
             0.38813079,
             0.8212422949
            ],
            "passed_time": 10.52612577,
            "remaining_time": 1.015678802,
            "test": [
             0.399066875,
             0.8462641969,
             0.8113744076
            ]
           },
           {
            "iteration": 456,
            "learn": [
             0.3880776306,
             0.8214793741
            ],
            "passed_time": 10.54533982,
            "remaining_time": 0.9922310994,
            "test": [
             0.3990852055,
             0.8462195992,
             0.8113744076
            ]
           },
           {
            "iteration": 457,
            "learn": [
             0.3880628341,
             0.8212422949
            ],
            "passed_time": 10.55596316,
            "remaining_time": 0.968014089,
            "test": [
             0.3990702738,
             0.8462641969,
             0.8113744076
            ]
           },
           {
            "iteration": 458,
            "learn": [
             0.3880557198,
             0.8214793741
            ],
            "passed_time": 10.56437892,
            "remaining_time": 0.9436591194,
            "test": [
             0.399069765,
             0.8462741075,
             0.8113744076
            ]
           },
           {
            "iteration": 459,
            "learn": [
             0.3880013398,
             0.8212422949
            ],
            "passed_time": 10.58378578,
            "remaining_time": 0.9203291982,
            "test": [
             0.3990826855,
             0.8462889735,
             0.8113744076
            ]
           },
           {
            "iteration": 460,
            "learn": [
             0.3878922462,
             0.8212422949
            ],
            "passed_time": 10.59572948,
            "remaining_time": 0.8963849232,
            "test": [
             0.3990830407,
             0.8462939288,
             0.8113744076
            ]
           },
           {
            "iteration": 461,
            "learn": [
             0.3878833783,
             0.8212422949
            ],
            "passed_time": 10.62092901,
            "remaining_time": 0.8735829059,
            "test": [
             0.399082373,
             0.8462741075,
             0.8113744076
            ]
           },
           {
            "iteration": 462,
            "learn": [
             0.3878809695,
             0.8212422949
            ],
            "passed_time": 10.64117342,
            "remaining_time": 0.8503745495,
            "test": [
             0.3990808453,
             0.8462939288,
             0.8113744076
            ]
           },
           {
            "iteration": 463,
            "learn": [
             0.3878301696,
             0.8207681366
            ],
            "passed_time": 10.65505674,
            "remaining_time": 0.8266854365,
            "test": [
             0.3990702389,
             0.8463434818,
             0.8113744076
            ]
           },
           {
            "iteration": 464,
            "learn": [
             0.3877351848,
             0.8214793741
            ],
            "passed_time": 10.67416458,
            "remaining_time": 0.8034317428,
            "test": [
             0.3990288156,
             0.8463385265,
             0.8113744076
            ]
           },
           {
            "iteration": 465,
            "learn": [
             0.3875966353,
             0.8210052157
            ],
            "passed_time": 10.70225251,
            "remaining_time": 0.7808510418,
            "test": [
             0.3990979277,
             0.8463087947,
             0.8113744076
            ]
           },
           {
            "iteration": 466,
            "learn": [
             0.3875891397,
             0.8217164533
            ],
            "passed_time": 10.70915329,
            "remaining_time": 0.7567495902,
            "test": [
             0.3991010532,
             0.8463335712,
             0.8113744076
            ]
           },
           {
            "iteration": 467,
            "learn": [
             0.3875236458,
             0.8221906117
            ],
            "passed_time": 10.72346343,
            "remaining_time": 0.7332282687,
            "test": [
             0.3991343204,
             0.8462988841,
             0.8113744076
            ]
           },
           {
            "iteration": 468,
            "learn": [
             0.3875037094,
             0.8221906117
            ],
            "passed_time": 10.74728689,
            "remaining_time": 0.7103750394,
            "test": [
             0.3991326369,
             0.8462691522,
             0.8113744076
            ]
           },
           {
            "iteration": 469,
            "learn": [
             0.3874639002,
             0.8219535325
            ],
            "passed_time": 10.783029,
            "remaining_time": 0.6882784469,
            "test": [
             0.3991221584,
             0.8462939288,
             0.8113744076
            ]
           },
           {
            "iteration": 470,
            "learn": [
             0.3874352337,
             0.8219535325
            ],
            "passed_time": 10.81248967,
            "remaining_time": 0.6657371561,
            "test": [
             0.399135185,
             0.8462988841,
             0.8113744076
            ]
           },
           {
            "iteration": 471,
            "learn": [
             0.3874086044,
             0.8219535325
            ],
            "passed_time": 10.8371969,
            "remaining_time": 0.6428845621,
            "test": [
             0.3991212698,
             0.8463310935,
             0.8113744076
            ]
           },
           {
            "iteration": 472,
            "learn": [
             0.3873304041,
             0.8214793741
            ],
            "passed_time": 10.86706791,
            "remaining_time": 0.6203188872,
            "test": [
             0.3991151868,
             0.8463211829,
             0.8113744076
            ]
           },
           {
            "iteration": 473,
            "learn": [
             0.3872925587,
             0.8217164533
            ],
            "passed_time": 10.90407818,
            "remaining_time": 0.5981139931,
            "test": [
             0.3991359088,
             0.8462964064,
             0.8113744076
            ]
           },
           {
            "iteration": 474,
            "learn": [
             0.387276898,
             0.8214793741
            ],
            "passed_time": 10.93057475,
            "remaining_time": 0.5752934079,
            "test": [
             0.3991614719,
             0.8462418981,
             0.8113744076
            ]
           },
           {
            "iteration": 475,
            "learn": [
             0.3872381205,
             0.8219535325
            ],
            "passed_time": 10.9435174,
            "remaining_time": 0.5517739865,
            "test": [
             0.3991731315,
             0.846207211,
             0.8113744076
            ]
           },
           {
            "iteration": 476,
            "learn": [
             0.3871983224,
             0.8214793741
            ],
            "passed_time": 10.95681216,
            "remaining_time": 0.5283158901,
            "test": [
             0.399165243,
             0.8461973004,
             0.8113744076
            ]
           },
           {
            "iteration": 477,
            "learn": [
             0.3871666567,
             0.8214793741
            ],
            "passed_time": 10.96906288,
            "remaining_time": 0.5048522666,
            "test": [
             0.3991631996,
             0.846192345,
             0.8113744076
            ]
           },
           {
            "iteration": 478,
            "learn": [
             0.3871145211,
             0.8217164533
            ],
            "passed_time": 10.98574255,
            "remaining_time": 0.4816296317,
            "test": [
             0.3991540171,
             0.8462171216,
             0.8104265403
            ]
           },
           {
            "iteration": 479,
            "learn": [
             0.3869881113,
             0.8219535325
            ],
            "passed_time": 11.01774542,
            "remaining_time": 0.4590727258,
            "test": [
             0.3991431454,
             0.8461477473,
             0.8113744076
            ]
           },
           {
            "iteration": 480,
            "learn": [
             0.3869530019,
             0.8217164533
            ],
            "passed_time": 11.04793318,
            "remaining_time": 0.4364048449,
            "test": [
             0.3991306932,
             0.8461774791,
             0.8113744076
            ]
           },
           {
            "iteration": 481,
            "learn": [
             0.3868908221,
             0.8219535325
            ],
            "passed_time": 11.0623737,
            "remaining_time": 0.4131176901,
            "test": [
             0.39913557,
             0.8461477473,
             0.8113744076
            ]
           },
           {
            "iteration": 482,
            "learn": [
             0.3867625695,
             0.8217164533
            ],
            "passed_time": 11.07798855,
            "remaining_time": 0.3899084998,
            "test": [
             0.3991098166,
             0.8461824344,
             0.8113744076
            ]
           },
           {
            "iteration": 483,
            "learn": [
             0.3867372279,
             0.8217164533
            ],
            "passed_time": 11.08816923,
            "remaining_time": 0.366551049,
            "test": [
             0.3991035564,
             0.8461576579,
             0.8113744076
            ]
           },
           {
            "iteration": 484,
            "learn": [
             0.3866335089,
             0.8214793741
            ],
            "passed_time": 11.10262195,
            "remaining_time": 0.3433800602,
            "test": [
             0.3990836566,
             0.8461328814,
             0.8113744076
            ]
           },
           {
            "iteration": 485,
            "learn": [
             0.3866239162,
             0.8217164533
            ],
            "passed_time": 11.11822672,
            "remaining_time": 0.3202781361,
            "test": [
             0.3990826839,
             0.8461527026,
             0.8113744076
            ]
           },
           {
            "iteration": 486,
            "learn": [
             0.3865954977,
             0.8221906117
            ],
            "passed_time": 11.1398707,
            "remaining_time": 0.2973682116,
            "test": [
             0.3990749316,
             0.8461675685,
             0.8113744076
            ]
           },
           {
            "iteration": 487,
            "learn": [
             0.3865766845,
             0.8219535325
            ],
            "passed_time": 11.15793676,
            "remaining_time": 0.2743754942,
            "test": [
             0.3990636379,
             0.8461725238,
             0.8113744076
            ]
           },
           {
            "iteration": 488,
            "learn": [
             0.3865766836,
             0.8219535325
            ],
            "passed_time": 11.1669048,
            "remaining_time": 0.2511982675,
            "test": [
             0.3990637107,
             0.8461725238,
             0.8113744076
            ]
           },
           {
            "iteration": 489,
            "learn": [
             0.3865393309,
             0.8219535325
            ],
            "passed_time": 11.196441,
            "remaining_time": 0.2284987959,
            "test": [
             0.3990661162,
             0.8461873897,
             0.8113744076
            ]
           },
           {
            "iteration": 490,
            "learn": [
             0.3864623029,
             0.8219535325
            ],
            "passed_time": 11.2263557,
            "remaining_time": 0.205778414,
            "test": [
             0.3990580573,
             0.8462468534,
             0.8104265403
            ]
           },
           {
            "iteration": 491,
            "learn": [
             0.3863597534,
             0.8221906117
            ],
            "passed_time": 11.25473095,
            "remaining_time": 0.1830037553,
            "test": [
             0.3990654702,
             0.8461973004,
             0.8104265403
            ]
           },
           {
            "iteration": 492,
            "learn": [
             0.3862618004,
             0.8219535325
            ],
            "passed_time": 11.27519821,
            "remaining_time": 0.1600940922,
            "test": [
             0.399076097,
             0.846256764,
             0.8104265403
            ]
           },
           {
            "iteration": 493,
            "learn": [
             0.3862617953,
             0.8219535325
            ],
            "passed_time": 11.27901423,
            "remaining_time": 0.1369920757,
            "test": [
             0.3990765063,
             0.846256764,
             0.8104265403
            ]
           },
           {
            "iteration": 494,
            "learn": [
             0.386207979,
             0.8219535325
            ],
            "passed_time": 11.31096889,
            "remaining_time": 0.114252211,
            "test": [
             0.3990908088,
             0.8462121663,
             0.8104265403
            ]
           },
           {
            "iteration": 495,
            "learn": [
             0.3861529007,
             0.82266477
            ],
            "passed_time": 11.36467463,
            "remaining_time": 0.09165060182,
            "test": [
             0.3991034966,
             0.8461774791,
             0.8104265403
            ]
           },
           {
            "iteration": 496,
            "learn": [
             0.3860972994,
             0.82266477
            ],
            "passed_time": 11.40753083,
            "remaining_time": 0.068858335,
            "test": [
             0.3990839598,
             0.8461873897,
             0.8104265403
            ]
           },
           {
            "iteration": 497,
            "learn": [
             0.3860739832,
             0.82266477
            ],
            "passed_time": 11.43452167,
            "remaining_time": 0.04592177376,
            "test": [
             0.3990841385,
             0.8461873897,
             0.8104265403
            ]
           },
           {
            "iteration": 498,
            "learn": [
             0.3860583665,
             0.8224276908
            ],
            "passed_time": 11.44736095,
            "remaining_time": 0.0229406031,
            "test": [
             0.3990929722,
             0.8461774791,
             0.8104265403
            ]
           },
           {
            "iteration": 499,
            "learn": [
             0.3860163304,
             0.82266477
            ],
            "passed_time": 11.47496084,
            "remaining_time": 0,
            "test": [
             0.3991072652,
             0.846192345,
             0.8104265403
            ]
           }
          ],
          "meta": {
           "iteration_count": 500,
           "launch_mode": "Train",
           "learn_metrics": [
            {
             "best_value": "Min",
             "name": "Logloss"
            },
            {
             "best_value": "Max",
             "name": "Accuracy"
            }
           ],
           "learn_sets": [
            "learn"
           ],
           "name": "experiment",
           "parameters": "",
           "test_metrics": [
            {
             "best_value": "Min",
             "name": "Logloss"
            },
            {
             "best_value": "Max",
             "name": "AUC"
            },
            {
             "best_value": "Max",
             "name": "Accuracy"
            }
           ],
           "test_sets": [
            "test"
           ]
          }
         },
         "passed_iterations": 499,
         "total_iterations": 500
        },
        "name": "catboost_info",
        "path": "catboost_info"
       }
      },
      "layout": "IPY_MODEL_f50060d91aec4a0d98ba36d1fff6b7e8"
     }
    }
   }
  }
 },
 "nbformat": 4,
 "nbformat_minor": 1
}
